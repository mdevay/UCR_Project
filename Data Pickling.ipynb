{
 "cells": [
  {
   "cell_type": "markdown",
   "metadata": {},
   "source": [
    "# PLOTTING AND DASHBOARD\n",
    "\n",
    "Now that the data are successfully cleaned, it is time to make the data dashboard.\n",
    "\n"
   ]
  },
  {
   "cell_type": "code",
   "execution_count": 1,
   "metadata": {},
   "outputs": [],
   "source": [
    "import pandas as pd\n",
    "import pickle\n",
    "import numpy as np\n",
    "import matplotlib.pyplot as plt\n",
    "\n",
    "%matplotlib inline"
   ]
  },
  {
   "cell_type": "code",
   "execution_count": 2,
   "metadata": {},
   "outputs": [
    {
     "data": {
      "text/html": [
       "<div>\n",
       "<style scoped>\n",
       "    .dataframe tbody tr th:only-of-type {\n",
       "        vertical-align: middle;\n",
       "    }\n",
       "\n",
       "    .dataframe tbody tr th {\n",
       "        vertical-align: top;\n",
       "    }\n",
       "\n",
       "    .dataframe thead th {\n",
       "        text-align: right;\n",
       "    }\n",
       "</style>\n",
       "<table border=\"1\" class=\"dataframe\">\n",
       "  <thead>\n",
       "    <tr style=\"text-align: right;\">\n",
       "      <th></th>\n",
       "      <th>murderandn</th>\n",
       "      <th>robbery</th>\n",
       "      <th>aggravated</th>\n",
       "      <th>burglary</th>\n",
       "      <th>larcenythe</th>\n",
       "      <th>motorvehic</th>\n",
       "      <th>arson</th>\n",
       "      <th>otherassau</th>\n",
       "      <th>forgeryand</th>\n",
       "      <th>fraud</th>\n",
       "      <th>...</th>\n",
       "      <th>drunkennes</th>\n",
       "      <th>disorderly</th>\n",
       "      <th>allotherof</th>\n",
       "      <th>population</th>\n",
       "      <th>year</th>\n",
       "      <th>state</th>\n",
       "      <th>decrim</th>\n",
       "      <th>medical</th>\n",
       "      <th>recreational</th>\n",
       "      <th>st</th>\n",
       "    </tr>\n",
       "  </thead>\n",
       "  <tbody>\n",
       "    <tr>\n",
       "      <th>0</th>\n",
       "      <td>265</td>\n",
       "      <td>1413</td>\n",
       "      <td>4712</td>\n",
       "      <td>2617</td>\n",
       "      <td>14252</td>\n",
       "      <td>1150</td>\n",
       "      <td>72</td>\n",
       "      <td>24142</td>\n",
       "      <td>1607</td>\n",
       "      <td>8963</td>\n",
       "      <td>...</td>\n",
       "      <td>9190.0</td>\n",
       "      <td>3892.0</td>\n",
       "      <td>59027</td>\n",
       "      <td>4056000.0</td>\n",
       "      <td>1999</td>\n",
       "      <td>ALABAMA</td>\n",
       "      <td>0</td>\n",
       "      <td>0</td>\n",
       "      <td>0</td>\n",
       "      <td>AL</td>\n",
       "    </tr>\n",
       "    <tr>\n",
       "      <th>1</th>\n",
       "      <td>36</td>\n",
       "      <td>188</td>\n",
       "      <td>1089</td>\n",
       "      <td>605</td>\n",
       "      <td>3166</td>\n",
       "      <td>441</td>\n",
       "      <td>18</td>\n",
       "      <td>4391</td>\n",
       "      <td>101</td>\n",
       "      <td>225</td>\n",
       "      <td>...</td>\n",
       "      <td>15.0</td>\n",
       "      <td>990.0</td>\n",
       "      <td>14555</td>\n",
       "      <td>558000.0</td>\n",
       "      <td>1999</td>\n",
       "      <td>ALASKA</td>\n",
       "      <td>0</td>\n",
       "      <td>1</td>\n",
       "      <td>0</td>\n",
       "      <td>AK</td>\n",
       "    </tr>\n",
       "    <tr>\n",
       "      <th>2</th>\n",
       "      <td>243</td>\n",
       "      <td>1359</td>\n",
       "      <td>6040</td>\n",
       "      <td>4632</td>\n",
       "      <td>31589</td>\n",
       "      <td>3418</td>\n",
       "      <td>269</td>\n",
       "      <td>26033</td>\n",
       "      <td>1668</td>\n",
       "      <td>1889</td>\n",
       "      <td>...</td>\n",
       "      <td>0.0</td>\n",
       "      <td>17604.0</td>\n",
       "      <td>60661</td>\n",
       "      <td>4409000.0</td>\n",
       "      <td>1999</td>\n",
       "      <td>ARIZONA</td>\n",
       "      <td>0</td>\n",
       "      <td>0</td>\n",
       "      <td>0</td>\n",
       "      <td>AZ</td>\n",
       "    </tr>\n",
       "    <tr>\n",
       "      <th>3</th>\n",
       "      <td>171</td>\n",
       "      <td>779</td>\n",
       "      <td>4117</td>\n",
       "      <td>3384</td>\n",
       "      <td>13824</td>\n",
       "      <td>537</td>\n",
       "      <td>115</td>\n",
       "      <td>8175</td>\n",
       "      <td>2029</td>\n",
       "      <td>21649</td>\n",
       "      <td>...</td>\n",
       "      <td>17393.0</td>\n",
       "      <td>7718.0</td>\n",
       "      <td>85720</td>\n",
       "      <td>2428000.0</td>\n",
       "      <td>1999</td>\n",
       "      <td>ARKANSAS</td>\n",
       "      <td>0</td>\n",
       "      <td>0</td>\n",
       "      <td>0</td>\n",
       "      <td>AR</td>\n",
       "    </tr>\n",
       "    <tr>\n",
       "      <th>4</th>\n",
       "      <td>1770</td>\n",
       "      <td>18746</td>\n",
       "      <td>109685</td>\n",
       "      <td>49307</td>\n",
       "      <td>104527</td>\n",
       "      <td>19857</td>\n",
       "      <td>1783</td>\n",
       "      <td>78688</td>\n",
       "      <td>11200</td>\n",
       "      <td>9514</td>\n",
       "      <td>...</td>\n",
       "      <td>117184.0</td>\n",
       "      <td>17212.0</td>\n",
       "      <td>342230</td>\n",
       "      <td>33037000.0</td>\n",
       "      <td>1999</td>\n",
       "      <td>CALIFORNIA</td>\n",
       "      <td>0</td>\n",
       "      <td>1</td>\n",
       "      <td>0</td>\n",
       "      <td>CA</td>\n",
       "    </tr>\n",
       "  </tbody>\n",
       "</table>\n",
       "<p>5 rows × 31 columns</p>\n",
       "</div>"
      ],
      "text/plain": [
       "   murderandn  robbery  aggravated  burglary  larcenythe  motorvehic  arson  \\\n",
       "0         265     1413        4712      2617       14252        1150     72   \n",
       "1          36      188        1089       605        3166         441     18   \n",
       "2         243     1359        6040      4632       31589        3418    269   \n",
       "3         171      779        4117      3384       13824         537    115   \n",
       "4        1770    18746      109685     49307      104527       19857   1783   \n",
       "\n",
       "   otherassau  forgeryand  fraud  ...  drunkennes  disorderly  allotherof  \\\n",
       "0       24142        1607   8963  ...      9190.0      3892.0       59027   \n",
       "1        4391         101    225  ...        15.0       990.0       14555   \n",
       "2       26033        1668   1889  ...         0.0     17604.0       60661   \n",
       "3        8175        2029  21649  ...     17393.0      7718.0       85720   \n",
       "4       78688       11200   9514  ...    117184.0     17212.0      342230   \n",
       "\n",
       "   population  year       state  decrim  medical  recreational  st  \n",
       "0   4056000.0  1999     ALABAMA       0        0             0  AL  \n",
       "1    558000.0  1999      ALASKA       0        1             0  AK  \n",
       "2   4409000.0  1999     ARIZONA       0        0             0  AZ  \n",
       "3   2428000.0  1999    ARKANSAS       0        0             0  AR  \n",
       "4  33037000.0  1999  CALIFORNIA       0        1             0  CA  \n",
       "\n",
       "[5 rows x 31 columns]"
      ]
     },
     "execution_count": 2,
     "metadata": {},
     "output_type": "execute_result"
    }
   ],
   "source": [
    "data = pd.read_csv(\"./ucr_final.csv\", index_col=0)\n",
    "data.head()"
   ]
  },
  {
   "cell_type": "code",
   "execution_count": 3,
   "metadata": {},
   "outputs": [
    {
     "data": {
      "text/plain": [
       "0     1999-01-01\n",
       "1     1999-01-01\n",
       "2     1999-01-01\n",
       "3     1999-01-01\n",
       "4     1999-01-01\n",
       "         ...    \n",
       "968   2018-01-01\n",
       "969   2018-01-01\n",
       "970   2018-01-01\n",
       "971   2018-01-01\n",
       "972   2018-01-01\n",
       "Name: year, Length: 973, dtype: datetime64[ns]"
      ]
     },
     "execution_count": 3,
     "metadata": {},
     "output_type": "execute_result"
    }
   ],
   "source": [
    "# lets cast the year column as date/time:\n",
    "\n",
    "pd.to_datetime(data['year'], format=\"%Y\")"
   ]
  },
  {
   "cell_type": "code",
   "execution_count": 4,
   "metadata": {},
   "outputs": [],
   "source": [
    "# now lets give the df a datetime index\n",
    "\n",
    "data.set_index('year', inplace=True)\n",
    "data.sort_index(inplace=True)"
   ]
  },
  {
   "cell_type": "code",
   "execution_count": 5,
   "metadata": {},
   "outputs": [
    {
     "data": {
      "text/html": [
       "<div>\n",
       "<style scoped>\n",
       "    .dataframe tbody tr th:only-of-type {\n",
       "        vertical-align: middle;\n",
       "    }\n",
       "\n",
       "    .dataframe tbody tr th {\n",
       "        vertical-align: top;\n",
       "    }\n",
       "\n",
       "    .dataframe thead th {\n",
       "        text-align: right;\n",
       "    }\n",
       "</style>\n",
       "<table border=\"1\" class=\"dataframe\">\n",
       "  <thead>\n",
       "    <tr style=\"text-align: right;\">\n",
       "      <th></th>\n",
       "      <th>murderandn</th>\n",
       "      <th>robbery</th>\n",
       "      <th>aggravated</th>\n",
       "      <th>burglary</th>\n",
       "      <th>larcenythe</th>\n",
       "      <th>motorvehic</th>\n",
       "      <th>arson</th>\n",
       "      <th>otherassau</th>\n",
       "      <th>forgeryand</th>\n",
       "      <th>fraud</th>\n",
       "      <th>...</th>\n",
       "      <th>liquorlaws</th>\n",
       "      <th>drunkennes</th>\n",
       "      <th>disorderly</th>\n",
       "      <th>allotherof</th>\n",
       "      <th>population</th>\n",
       "      <th>state</th>\n",
       "      <th>decrim</th>\n",
       "      <th>medical</th>\n",
       "      <th>recreational</th>\n",
       "      <th>st</th>\n",
       "    </tr>\n",
       "    <tr>\n",
       "      <th>year</th>\n",
       "      <th></th>\n",
       "      <th></th>\n",
       "      <th></th>\n",
       "      <th></th>\n",
       "      <th></th>\n",
       "      <th></th>\n",
       "      <th></th>\n",
       "      <th></th>\n",
       "      <th></th>\n",
       "      <th></th>\n",
       "      <th></th>\n",
       "      <th></th>\n",
       "      <th></th>\n",
       "      <th></th>\n",
       "      <th></th>\n",
       "      <th></th>\n",
       "      <th></th>\n",
       "      <th></th>\n",
       "      <th></th>\n",
       "      <th></th>\n",
       "      <th></th>\n",
       "    </tr>\n",
       "  </thead>\n",
       "  <tbody>\n",
       "    <tr>\n",
       "      <th>1999</th>\n",
       "      <td>265</td>\n",
       "      <td>1413</td>\n",
       "      <td>4712</td>\n",
       "      <td>2617</td>\n",
       "      <td>14252</td>\n",
       "      <td>1150</td>\n",
       "      <td>72</td>\n",
       "      <td>24142</td>\n",
       "      <td>1607</td>\n",
       "      <td>8963</td>\n",
       "      <td>...</td>\n",
       "      <td>6671</td>\n",
       "      <td>9190.0</td>\n",
       "      <td>3892.0</td>\n",
       "      <td>59027</td>\n",
       "      <td>4056000.0</td>\n",
       "      <td>ALABAMA</td>\n",
       "      <td>0</td>\n",
       "      <td>0</td>\n",
       "      <td>0</td>\n",
       "      <td>AL</td>\n",
       "    </tr>\n",
       "    <tr>\n",
       "      <th>1999</th>\n",
       "      <td>36</td>\n",
       "      <td>188</td>\n",
       "      <td>1089</td>\n",
       "      <td>605</td>\n",
       "      <td>3166</td>\n",
       "      <td>441</td>\n",
       "      <td>18</td>\n",
       "      <td>4391</td>\n",
       "      <td>101</td>\n",
       "      <td>225</td>\n",
       "      <td>...</td>\n",
       "      <td>1539</td>\n",
       "      <td>15.0</td>\n",
       "      <td>990.0</td>\n",
       "      <td>14555</td>\n",
       "      <td>558000.0</td>\n",
       "      <td>ALASKA</td>\n",
       "      <td>0</td>\n",
       "      <td>1</td>\n",
       "      <td>0</td>\n",
       "      <td>AK</td>\n",
       "    </tr>\n",
       "    <tr>\n",
       "      <th>1999</th>\n",
       "      <td>243</td>\n",
       "      <td>1359</td>\n",
       "      <td>6040</td>\n",
       "      <td>4632</td>\n",
       "      <td>31589</td>\n",
       "      <td>3418</td>\n",
       "      <td>269</td>\n",
       "      <td>26033</td>\n",
       "      <td>1668</td>\n",
       "      <td>1889</td>\n",
       "      <td>...</td>\n",
       "      <td>25067</td>\n",
       "      <td>0.0</td>\n",
       "      <td>17604.0</td>\n",
       "      <td>60661</td>\n",
       "      <td>4409000.0</td>\n",
       "      <td>ARIZONA</td>\n",
       "      <td>0</td>\n",
       "      <td>0</td>\n",
       "      <td>0</td>\n",
       "      <td>AZ</td>\n",
       "    </tr>\n",
       "    <tr>\n",
       "      <th>1999</th>\n",
       "      <td>171</td>\n",
       "      <td>779</td>\n",
       "      <td>4117</td>\n",
       "      <td>3384</td>\n",
       "      <td>13824</td>\n",
       "      <td>537</td>\n",
       "      <td>115</td>\n",
       "      <td>8175</td>\n",
       "      <td>2029</td>\n",
       "      <td>21649</td>\n",
       "      <td>...</td>\n",
       "      <td>3521</td>\n",
       "      <td>17393.0</td>\n",
       "      <td>7718.0</td>\n",
       "      <td>85720</td>\n",
       "      <td>2428000.0</td>\n",
       "      <td>ARKANSAS</td>\n",
       "      <td>0</td>\n",
       "      <td>0</td>\n",
       "      <td>0</td>\n",
       "      <td>AR</td>\n",
       "    </tr>\n",
       "    <tr>\n",
       "      <th>1999</th>\n",
       "      <td>1770</td>\n",
       "      <td>18746</td>\n",
       "      <td>109685</td>\n",
       "      <td>49307</td>\n",
       "      <td>104527</td>\n",
       "      <td>19857</td>\n",
       "      <td>1783</td>\n",
       "      <td>78688</td>\n",
       "      <td>11200</td>\n",
       "      <td>9514</td>\n",
       "      <td>...</td>\n",
       "      <td>31671</td>\n",
       "      <td>117184.0</td>\n",
       "      <td>17212.0</td>\n",
       "      <td>342230</td>\n",
       "      <td>33037000.0</td>\n",
       "      <td>CALIFORNIA</td>\n",
       "      <td>0</td>\n",
       "      <td>1</td>\n",
       "      <td>0</td>\n",
       "      <td>CA</td>\n",
       "    </tr>\n",
       "  </tbody>\n",
       "</table>\n",
       "<p>5 rows × 30 columns</p>\n",
       "</div>"
      ],
      "text/plain": [
       "      murderandn  robbery  aggravated  burglary  larcenythe  motorvehic  \\\n",
       "year                                                                      \n",
       "1999         265     1413        4712      2617       14252        1150   \n",
       "1999          36      188        1089       605        3166         441   \n",
       "1999         243     1359        6040      4632       31589        3418   \n",
       "1999         171      779        4117      3384       13824         537   \n",
       "1999        1770    18746      109685     49307      104527       19857   \n",
       "\n",
       "      arson  otherassau  forgeryand  fraud  ...  liquorlaws  drunkennes  \\\n",
       "year                                        ...                           \n",
       "1999     72       24142        1607   8963  ...        6671      9190.0   \n",
       "1999     18        4391         101    225  ...        1539        15.0   \n",
       "1999    269       26033        1668   1889  ...       25067         0.0   \n",
       "1999    115        8175        2029  21649  ...        3521     17393.0   \n",
       "1999   1783       78688       11200   9514  ...       31671    117184.0   \n",
       "\n",
       "      disorderly  allotherof  population       state  decrim  medical  \\\n",
       "year                                                                    \n",
       "1999      3892.0       59027   4056000.0     ALABAMA       0        0   \n",
       "1999       990.0       14555    558000.0      ALASKA       0        1   \n",
       "1999     17604.0       60661   4409000.0     ARIZONA       0        0   \n",
       "1999      7718.0       85720   2428000.0    ARKANSAS       0        0   \n",
       "1999     17212.0      342230  33037000.0  CALIFORNIA       0        1   \n",
       "\n",
       "      recreational  st  \n",
       "year                    \n",
       "1999             0  AL  \n",
       "1999             0  AK  \n",
       "1999             0  AZ  \n",
       "1999             0  AR  \n",
       "1999             0  CA  \n",
       "\n",
       "[5 rows x 30 columns]"
      ]
     },
     "execution_count": 5,
     "metadata": {},
     "output_type": "execute_result"
    }
   ],
   "source": [
    "data.head()"
   ]
  },
  {
   "cell_type": "code",
   "execution_count": 6,
   "metadata": {},
   "outputs": [
    {
     "data": {
      "text/plain": [
       "[<matplotlib.lines.Line2D at 0x278a6060108>]"
      ]
     },
     "execution_count": 6,
     "metadata": {},
     "output_type": "execute_result"
    },
    {
     "data": {
      "image/png": "[encoded data removed]",
      "text/plain": [
       "<Figure size 432x288 with 1 Axes>"
      ]
     },
     "metadata": {
      "needs_background": "light"
     },
     "output_type": "display_data"
    }
   ],
   "source": [
    "table = data[data['state'] == 'ALABAMA']\n",
    "\n",
    "plt.plot(table['arson'])"
   ]
  },
  {
   "cell_type": "code",
   "execution_count": 7,
   "metadata": {},
   "outputs": [
    {
     "data": {
      "text/plain": [
       "Index(['murderandn', 'robbery', 'aggravated', 'burglary', 'larcenythe',\n",
       "       'motorvehic', 'arson', 'otherassau', 'forgeryand', 'fraud',\n",
       "       'embezzleme', 'stolenprop', 'vandalism', 'weaponscar', 'prostituti',\n",
       "       'sexoffense', 'drugabusev', 'gambling', 'offensesag', 'drivingund',\n",
       "       'liquorlaws', 'drunkennes', 'disorderly', 'allotherof', 'population',\n",
       "       'state', 'decrim', 'medical', 'recreational', 'st'],\n",
       "      dtype='object')"
      ]
     },
     "execution_count": 7,
     "metadata": {},
     "output_type": "execute_result"
    }
   ],
   "source": [
    "data.columns"
   ]
  },
  {
   "cell_type": "code",
   "execution_count": 8,
   "metadata": {},
   "outputs": [
    {
     "data": {
      "text/plain": [
       "[<matplotlib.lines.Line2D at 0x278a6124a88>]"
      ]
     },
     "execution_count": 8,
     "metadata": {},
     "output_type": "execute_result"
    },
    {
     "data": {
      "image/png": "[encoded data removed]",
      "text/plain": [
       "<Figure size 432x288 with 1 Axes>"
      ]
     },
     "metadata": {
      "needs_background": "light"
     },
     "output_type": "display_data"
    }
   ],
   "source": [
    "table = data[data['state'] == \"TEXAS\"]\n",
    "\n",
    "plt.plot(table['drugabusev'])"
   ]
  },
  {
   "cell_type": "code",
   "execution_count": 9,
   "metadata": {},
   "outputs": [
    {
     "data": {
      "text/plain": [
       "[<matplotlib.lines.Line2D at 0x278a6193688>]"
      ]
     },
     "execution_count": 9,
     "metadata": {},
     "output_type": "execute_result"
    },
    {
     "data": {
      "image/png": "[encoded data removed]",
      "text/plain": [
       "<Figure size 432x288 with 1 Axes>"
      ]
     },
     "metadata": {
      "needs_background": "light"
     },
     "output_type": "display_data"
    }
   ],
   "source": [
    "plt.plot(table['fraud'])"
   ]
  },
  {
   "cell_type": "code",
   "execution_count": 10,
   "metadata": {
    "scrolled": true
   },
   "outputs": [
    {
     "data": {
      "text/plain": [
       "[<matplotlib.lines.Line2D at 0x278a61fc648>]"
      ]
     },
     "execution_count": 10,
     "metadata": {},
     "output_type": "execute_result"
    },
    {
     "data": {
      "image/png": "[encoded data removed]",
      "text/plain": [
       "<Figure size 432x288 with 1 Axes>"
      ]
     },
     "metadata": {
      "needs_background": "light"
     },
     "output_type": "display_data"
    }
   ],
   "source": [
    "plt.plot(table['population'])"
   ]
  },
  {
   "cell_type": "code",
   "execution_count": 11,
   "metadata": {},
   "outputs": [
    {
     "data": {
      "text/plain": [
       "Index(['murderandn', 'robbery', 'aggravated', 'burglary', 'larcenythe',\n",
       "       'motorvehic', 'arson', 'otherassau', 'forgeryand', 'fraud',\n",
       "       'embezzleme', 'stolenprop', 'vandalism', 'weaponscar', 'prostituti',\n",
       "       'sexoffense', 'drugabusev', 'gambling', 'offensesag', 'drivingund',\n",
       "       'liquorlaws', 'drunkennes', 'disorderly', 'allotherof', 'population',\n",
       "       'state', 'decrim', 'medical', 'recreational', 'st'],\n",
       "      dtype='object')"
      ]
     },
     "execution_count": 11,
     "metadata": {},
     "output_type": "execute_result"
    }
   ],
   "source": [
    "# now we need to create some kind of dict or table to be able to decode the columns:\n",
    "\n",
    "data.columns"
   ]
  },
  {
   "cell_type": "code",
   "execution_count": 12,
   "metadata": {},
   "outputs": [
    {
     "data": {
      "text/plain": [
       "{'murderandn': 'Murder/Manslaughter',\n",
       " 'robbery': 'Robbery',\n",
       " 'aggravated': 'Aggravated Assault',\n",
       " 'burglary': 'Burglary',\n",
       " 'larcenythe': 'Larceny/Theft',\n",
       " 'motorvehic': 'Auto Theft',\n",
       " 'arson': 'Arson',\n",
       " 'otherassau': 'Other Assaults',\n",
       " 'forgeryand': 'Forgery/Counterfieting',\n",
       " 'fraud': 'Fraud',\n",
       " 'embezzleme': 'Embezzlement',\n",
       " 'stolenprop': 'Buying/Receving/Possessing Stolen Property',\n",
       " 'vandalism': 'Vandalism',\n",
       " 'weaponscar': 'Illegal Weapons Possession',\n",
       " 'prostituti': 'Prositution/Vice',\n",
       " 'sexoffense': 'Other Sex Offenses',\n",
       " 'drugabusev': 'Drug Abuse Violations',\n",
       " 'gambling': 'Gambling',\n",
       " 'offensesag': 'Domestic/Family Offenses',\n",
       " 'drivingund': 'DUI/DWI',\n",
       " 'liquorlaws': 'Liqour Law Violations',\n",
       " 'drunkennes': 'Public Drunkenness',\n",
       " 'disorderly': 'Disorderly Conduct',\n",
       " 'allotherof': 'All Other Offenses'}"
      ]
     },
     "execution_count": 12,
     "metadata": {},
     "output_type": "execute_result"
    }
   ],
   "source": [
    "crime_dict = {}\n",
    "\n",
    "crime_list = [\"Murder/Manslaughter\",\n",
    "              \"Robbery\",\n",
    "              \"Aggravated Assault\",\n",
    "              \"Burglary\",\n",
    "              \"Larceny/Theft\",\n",
    "              \"Auto Theft\",\n",
    "              \"Arson\", \n",
    "              \"Other Assaults\",\n",
    "              \"Forgery/Counterfieting\",\n",
    "              \"Fraud\",\n",
    "              \"Embezzlement\",\n",
    "              \"Buying/Receving/Possessing Stolen Property\",\n",
    "              \"Vandalism\",\n",
    "              \"Illegal Weapons Possession\",\n",
    "              \"Prositution/Vice\",\n",
    "              \"Other Sex Offenses\",\n",
    "              \"Drug Abuse Violations\",\n",
    "              \"Gambling\",\n",
    "              \"Domestic/Family Offenses\",\n",
    "              \"DUI/DWI\",\n",
    "              \"Liqour Law Violations\",\n",
    "              \"Public Drunkenness\",\n",
    "              \"Disorderly Conduct\",\n",
    "              \"All Other Offenses\"\n",
    "             ]\n",
    "crime_cols = list(data.drop(columns=['state', 'population', 'decrim', 'medical', 'recreational']).columns)\n",
    "\n",
    "crime_dict = dict(zip(crime_cols, crime_list))\n",
    "crime_dict"
   ]
  },
  {
   "cell_type": "code",
   "execution_count": 13,
   "metadata": {},
   "outputs": [],
   "source": [
    "# now we can pickle this guy too:\n",
    "\n",
    "with open('crime_dict.pkl', \"ab\") as data_out:\n",
    "    pickle.dump(crime_dict, data_out)"
   ]
  },
  {
   "cell_type": "code",
   "execution_count": 14,
   "metadata": {},
   "outputs": [
    {
     "data": {
      "text/html": [
       "<div>\n",
       "<style scoped>\n",
       "    .dataframe tbody tr th:only-of-type {\n",
       "        vertical-align: middle;\n",
       "    }\n",
       "\n",
       "    .dataframe tbody tr th {\n",
       "        vertical-align: top;\n",
       "    }\n",
       "\n",
       "    .dataframe thead th {\n",
       "        text-align: right;\n",
       "    }\n",
       "</style>\n",
       "<table border=\"1\" class=\"dataframe\">\n",
       "  <thead>\n",
       "    <tr style=\"text-align: right;\">\n",
       "      <th></th>\n",
       "      <th>Decriminalized</th>\n",
       "      <th>Legalized Medical</th>\n",
       "      <th>Legalized Recreational</th>\n",
       "    </tr>\n",
       "  </thead>\n",
       "  <tbody>\n",
       "    <tr>\n",
       "      <th>ALABAMA</th>\n",
       "      <td>NA</td>\n",
       "      <td>NA</td>\n",
       "      <td>NA</td>\n",
       "    </tr>\n",
       "    <tr>\n",
       "      <th>ALASKA</th>\n",
       "      <td>2003</td>\n",
       "      <td>na</td>\n",
       "      <td>2014</td>\n",
       "    </tr>\n",
       "    <tr>\n",
       "      <th>ARIZONA</th>\n",
       "      <td>NA</td>\n",
       "      <td>2010</td>\n",
       "      <td>NA</td>\n",
       "    </tr>\n",
       "    <tr>\n",
       "      <th>ARKANSAS</th>\n",
       "      <td>NA</td>\n",
       "      <td>NA</td>\n",
       "      <td>NA</td>\n",
       "    </tr>\n",
       "    <tr>\n",
       "      <th>CALIFORNIA</th>\n",
       "      <td>2010</td>\n",
       "      <td>1996</td>\n",
       "      <td>2016</td>\n",
       "    </tr>\n",
       "  </tbody>\n",
       "</table>\n",
       "</div>"
      ],
      "text/plain": [
       "           Decriminalized Legalized Medical Legalized Recreational\n",
       "ALABAMA                NA                NA                     NA\n",
       "ALASKA               2003                na                   2014\n",
       "ARIZONA                NA              2010                     NA\n",
       "ARKANSAS               NA                NA                     NA\n",
       "CALIFORNIA           2010              1996                   2016"
      ]
     },
     "execution_count": 14,
     "metadata": {},
     "output_type": "execute_result"
    }
   ],
   "source": [
    "# now lets create a dataframe that incorporates the two letter code, the proper titled spelling for the state, \n",
    "# and the data from the legalization\n",
    "\n",
    "with open('policy_dict.pkl', \"rb\") as data_in:\n",
    "    policy_dict = pickle.load(data_in)\n",
    "\n",
    "legal_df = pd.DataFrame(policy_dict).T\n",
    "\n",
    "legal_df.head()"
   ]
  },
  {
   "cell_type": "code",
   "execution_count": 15,
   "metadata": {},
   "outputs": [
    {
     "data": {
      "text/html": [
       "<div>\n",
       "<style scoped>\n",
       "    .dataframe tbody tr th:only-of-type {\n",
       "        vertical-align: middle;\n",
       "    }\n",
       "\n",
       "    .dataframe tbody tr th {\n",
       "        vertical-align: top;\n",
       "    }\n",
       "\n",
       "    .dataframe thead th {\n",
       "        text-align: right;\n",
       "    }\n",
       "</style>\n",
       "<table border=\"1\" class=\"dataframe\">\n",
       "  <thead>\n",
       "    <tr style=\"text-align: right;\">\n",
       "      <th></th>\n",
       "      <th>Decriminalized</th>\n",
       "      <th>Legalized Medical</th>\n",
       "      <th>Legalized Recreational</th>\n",
       "      <th>State</th>\n",
       "    </tr>\n",
       "  </thead>\n",
       "  <tbody>\n",
       "    <tr>\n",
       "      <th>ALABAMA</th>\n",
       "      <td>NA</td>\n",
       "      <td>NA</td>\n",
       "      <td>NA</td>\n",
       "      <td>ALABAMA</td>\n",
       "    </tr>\n",
       "    <tr>\n",
       "      <th>ALASKA</th>\n",
       "      <td>2003</td>\n",
       "      <td>na</td>\n",
       "      <td>2014</td>\n",
       "      <td>ALASKA</td>\n",
       "    </tr>\n",
       "    <tr>\n",
       "      <th>ARIZONA</th>\n",
       "      <td>NA</td>\n",
       "      <td>2010</td>\n",
       "      <td>NA</td>\n",
       "      <td>ARIZONA</td>\n",
       "    </tr>\n",
       "    <tr>\n",
       "      <th>ARKANSAS</th>\n",
       "      <td>NA</td>\n",
       "      <td>NA</td>\n",
       "      <td>NA</td>\n",
       "      <td>ARKANSAS</td>\n",
       "    </tr>\n",
       "    <tr>\n",
       "      <th>CALIFORNIA</th>\n",
       "      <td>2010</td>\n",
       "      <td>1996</td>\n",
       "      <td>2016</td>\n",
       "      <td>CALIFORNIA</td>\n",
       "    </tr>\n",
       "  </tbody>\n",
       "</table>\n",
       "</div>"
      ],
      "text/plain": [
       "           Decriminalized Legalized Medical Legalized Recreational       State\n",
       "ALABAMA                NA                NA                     NA     ALABAMA\n",
       "ALASKA               2003                na                   2014      ALASKA\n",
       "ARIZONA                NA              2010                     NA     ARIZONA\n",
       "ARKANSAS               NA                NA                     NA    ARKANSAS\n",
       "CALIFORNIA           2010              1996                   2016  CALIFORNIA"
      ]
     },
     "execution_count": 15,
     "metadata": {},
     "output_type": "execute_result"
    }
   ],
   "source": [
    "legal_df['State'] = legal_df.index\n",
    "legal_df.head()"
   ]
  },
  {
   "cell_type": "code",
   "execution_count": 17,
   "metadata": {},
   "outputs": [
    {
     "data": {
      "text/html": [
       "<div>\n",
       "<style scoped>\n",
       "    .dataframe tbody tr th:only-of-type {\n",
       "        vertical-align: middle;\n",
       "    }\n",
       "\n",
       "    .dataframe tbody tr th {\n",
       "        vertical-align: top;\n",
       "    }\n",
       "\n",
       "    .dataframe thead th {\n",
       "        text-align: right;\n",
       "    }\n",
       "</style>\n",
       "<table border=\"1\" class=\"dataframe\">\n",
       "  <thead>\n",
       "    <tr style=\"text-align: right;\">\n",
       "      <th></th>\n",
       "      <th>Decriminalized</th>\n",
       "      <th>Legalized Medical</th>\n",
       "      <th>Legalized Recreational</th>\n",
       "      <th>State</th>\n",
       "      <th>st</th>\n",
       "    </tr>\n",
       "  </thead>\n",
       "  <tbody>\n",
       "    <tr>\n",
       "      <th>ALABAMA</th>\n",
       "      <td>NA</td>\n",
       "      <td>NA</td>\n",
       "      <td>NA</td>\n",
       "      <td>ALABAMA</td>\n",
       "      <td>AL</td>\n",
       "    </tr>\n",
       "    <tr>\n",
       "      <th>ALASKA</th>\n",
       "      <td>2003</td>\n",
       "      <td>na</td>\n",
       "      <td>2014</td>\n",
       "      <td>ALASKA</td>\n",
       "      <td>AK</td>\n",
       "    </tr>\n",
       "    <tr>\n",
       "      <th>ARIZONA</th>\n",
       "      <td>NA</td>\n",
       "      <td>2010</td>\n",
       "      <td>NA</td>\n",
       "      <td>ARIZONA</td>\n",
       "      <td>AZ</td>\n",
       "    </tr>\n",
       "    <tr>\n",
       "      <th>ARKANSAS</th>\n",
       "      <td>NA</td>\n",
       "      <td>NA</td>\n",
       "      <td>NA</td>\n",
       "      <td>ARKANSAS</td>\n",
       "      <td>AR</td>\n",
       "    </tr>\n",
       "    <tr>\n",
       "      <th>CALIFORNIA</th>\n",
       "      <td>2010</td>\n",
       "      <td>1996</td>\n",
       "      <td>2016</td>\n",
       "      <td>CALIFORNIA</td>\n",
       "      <td>CA</td>\n",
       "    </tr>\n",
       "  </tbody>\n",
       "</table>\n",
       "</div>"
      ],
      "text/plain": [
       "           Decriminalized Legalized Medical Legalized Recreational  \\\n",
       "ALABAMA                NA                NA                     NA   \n",
       "ALASKA               2003                na                   2014   \n",
       "ARIZONA                NA              2010                     NA   \n",
       "ARKANSAS               NA                NA                     NA   \n",
       "CALIFORNIA           2010              1996                   2016   \n",
       "\n",
       "                 State  st  \n",
       "ALABAMA        ALABAMA  AL  \n",
       "ALASKA          ALASKA  AK  \n",
       "ARIZONA        ARIZONA  AZ  \n",
       "ARKANSAS      ARKANSAS  AR  \n",
       "CALIFORNIA  CALIFORNIA  CA  "
      ]
     },
     "execution_count": 17,
     "metadata": {},
     "output_type": "execute_result"
    }
   ],
   "source": [
    "# now lets add the abbreviated state title:\n",
    "\n",
    "with open('state_codes.pkl', \"rb\") as data_in:\n",
    "    state_codes = pickle.load(data_in)\n",
    "    \n",
    "    \n",
    "def return_st_code(row):\n",
    "    state = row['State']\n",
    "    return state_codes[state]\n",
    "\n",
    "legal_df['st'] = legal_df.apply(return_st_code, axis=1)\n",
    "legal_df.head()"
   ]
  },
  {
   "cell_type": "code",
   "execution_count": 18,
   "metadata": {},
   "outputs": [
    {
     "data": {
      "text/html": [
       "<div>\n",
       "<style scoped>\n",
       "    .dataframe tbody tr th:only-of-type {\n",
       "        vertical-align: middle;\n",
       "    }\n",
       "\n",
       "    .dataframe tbody tr th {\n",
       "        vertical-align: top;\n",
       "    }\n",
       "\n",
       "    .dataframe thead th {\n",
       "        text-align: right;\n",
       "    }\n",
       "</style>\n",
       "<table border=\"1\" class=\"dataframe\">\n",
       "  <thead>\n",
       "    <tr style=\"text-align: right;\">\n",
       "      <th></th>\n",
       "      <th>0</th>\n",
       "    </tr>\n",
       "  </thead>\n",
       "  <tbody>\n",
       "    <tr>\n",
       "      <th>AL</th>\n",
       "      <td>Alabama</td>\n",
       "    </tr>\n",
       "    <tr>\n",
       "      <th>AK</th>\n",
       "      <td>Alaska</td>\n",
       "    </tr>\n",
       "    <tr>\n",
       "      <th>AS</th>\n",
       "      <td>American Samoa</td>\n",
       "    </tr>\n",
       "    <tr>\n",
       "      <th>AZ</th>\n",
       "      <td>Arizona</td>\n",
       "    </tr>\n",
       "    <tr>\n",
       "      <th>AR</th>\n",
       "      <td>Arkansas</td>\n",
       "    </tr>\n",
       "  </tbody>\n",
       "</table>\n",
       "</div>"
      ],
      "text/plain": [
       "                 0\n",
       "AL         Alabama\n",
       "AK          Alaska\n",
       "AS  American Samoa\n",
       "AZ         Arizona\n",
       "AR        Arkansas"
      ]
     },
     "execution_count": 18,
     "metadata": {},
     "output_type": "execute_result"
    }
   ],
   "source": [
    "# now that we have that, lets fix the state names:\n",
    "\n",
    "states_corr = pd.read_json('./states_hash.json', orient='index')\n",
    "states_corr.head()"
   ]
  },
  {
   "cell_type": "code",
   "execution_count": 19,
   "metadata": {},
   "outputs": [
    {
     "data": {
      "text/html": [
       "<div>\n",
       "<style scoped>\n",
       "    .dataframe tbody tr th:only-of-type {\n",
       "        vertical-align: middle;\n",
       "    }\n",
       "\n",
       "    .dataframe tbody tr th {\n",
       "        vertical-align: top;\n",
       "    }\n",
       "\n",
       "    .dataframe thead th {\n",
       "        text-align: right;\n",
       "    }\n",
       "</style>\n",
       "<table border=\"1\" class=\"dataframe\">\n",
       "  <thead>\n",
       "    <tr style=\"text-align: right;\">\n",
       "      <th></th>\n",
       "      <th>Decriminalized</th>\n",
       "      <th>Legalized Medical</th>\n",
       "      <th>Legalized Recreational</th>\n",
       "      <th>State</th>\n",
       "      <th>st</th>\n",
       "    </tr>\n",
       "  </thead>\n",
       "  <tbody>\n",
       "    <tr>\n",
       "      <th>ALABAMA</th>\n",
       "      <td>NA</td>\n",
       "      <td>NA</td>\n",
       "      <td>NA</td>\n",
       "      <td>Alabama</td>\n",
       "      <td>AL</td>\n",
       "    </tr>\n",
       "    <tr>\n",
       "      <th>ALASKA</th>\n",
       "      <td>2003</td>\n",
       "      <td>na</td>\n",
       "      <td>2014</td>\n",
       "      <td>Alaska</td>\n",
       "      <td>AK</td>\n",
       "    </tr>\n",
       "    <tr>\n",
       "      <th>ARIZONA</th>\n",
       "      <td>NA</td>\n",
       "      <td>2010</td>\n",
       "      <td>NA</td>\n",
       "      <td>Arizona</td>\n",
       "      <td>AZ</td>\n",
       "    </tr>\n",
       "    <tr>\n",
       "      <th>ARKANSAS</th>\n",
       "      <td>NA</td>\n",
       "      <td>NA</td>\n",
       "      <td>NA</td>\n",
       "      <td>Arkansas</td>\n",
       "      <td>AR</td>\n",
       "    </tr>\n",
       "    <tr>\n",
       "      <th>CALIFORNIA</th>\n",
       "      <td>2010</td>\n",
       "      <td>1996</td>\n",
       "      <td>2016</td>\n",
       "      <td>California</td>\n",
       "      <td>CA</td>\n",
       "    </tr>\n",
       "  </tbody>\n",
       "</table>\n",
       "</div>"
      ],
      "text/plain": [
       "           Decriminalized Legalized Medical Legalized Recreational  \\\n",
       "ALABAMA                NA                NA                     NA   \n",
       "ALASKA               2003                na                   2014   \n",
       "ARIZONA                NA              2010                     NA   \n",
       "ARKANSAS               NA                NA                     NA   \n",
       "CALIFORNIA           2010              1996                   2016   \n",
       "\n",
       "                 State  st  \n",
       "ALABAMA        Alabama  AL  \n",
       "ALASKA          Alaska  AK  \n",
       "ARIZONA        Arizona  AZ  \n",
       "ARKANSAS      Arkansas  AR  \n",
       "CALIFORNIA  California  CA  "
      ]
     },
     "execution_count": 19,
     "metadata": {},
     "output_type": "execute_result"
    }
   ],
   "source": [
    "# now lets add the fixed state name:\n",
    "\n",
    "def return_st_code(row):\n",
    "    st = row['st']\n",
    "    return states_corr.loc[st, :]\n",
    "\n",
    "legal_df['State'] = legal_df.apply(return_st_code, axis=1)\n",
    "legal_df.head()"
   ]
  },
  {
   "cell_type": "code",
   "execution_count": 20,
   "metadata": {},
   "outputs": [
    {
     "data": {
      "text/plain": [
       "year\n",
       "1999       Alabama\n",
       "1999        Alaska\n",
       "1999       Arizona\n",
       "1999      Arkansas\n",
       "1999    California\n",
       "Name: state, dtype: object"
      ]
     },
     "execution_count": 20,
     "metadata": {},
     "output_type": "execute_result"
    }
   ],
   "source": [
    "# much better. In fact I like it so much, lets do it to the original dataframe as well\n",
    "\n",
    "data['state'] = data.apply(return_st_code, axis=1)\n",
    "data['state'].head()"
   ]
  },
  {
   "cell_type": "code",
   "execution_count": 24,
   "metadata": {
    "scrolled": true
   },
   "outputs": [
    {
     "data": {
      "text/html": [
       "<div>\n",
       "<style scoped>\n",
       "    .dataframe tbody tr th:only-of-type {\n",
       "        vertical-align: middle;\n",
       "    }\n",
       "\n",
       "    .dataframe tbody tr th {\n",
       "        vertical-align: top;\n",
       "    }\n",
       "\n",
       "    .dataframe thead th {\n",
       "        text-align: right;\n",
       "    }\n",
       "</style>\n",
       "<table border=\"1\" class=\"dataframe\">\n",
       "  <thead>\n",
       "    <tr style=\"text-align: right;\">\n",
       "      <th></th>\n",
       "      <th>Murder/Manslaughter</th>\n",
       "      <th>Robbery</th>\n",
       "      <th>Aggravated Assault</th>\n",
       "      <th>Burglary</th>\n",
       "      <th>Larceny/Theft</th>\n",
       "      <th>Auto Theft</th>\n",
       "      <th>Arson</th>\n",
       "      <th>Other Assaults</th>\n",
       "      <th>Forgery/Counterfieting</th>\n",
       "      <th>Fraud</th>\n",
       "      <th>...</th>\n",
       "      <th>Liqour Law Violations</th>\n",
       "      <th>Public Drunkenness</th>\n",
       "      <th>Disorderly Conduct</th>\n",
       "      <th>All Other Offenses</th>\n",
       "      <th>population</th>\n",
       "      <th>state</th>\n",
       "      <th>decrim</th>\n",
       "      <th>medical</th>\n",
       "      <th>recreational</th>\n",
       "      <th>st</th>\n",
       "    </tr>\n",
       "    <tr>\n",
       "      <th>year</th>\n",
       "      <th></th>\n",
       "      <th></th>\n",
       "      <th></th>\n",
       "      <th></th>\n",
       "      <th></th>\n",
       "      <th></th>\n",
       "      <th></th>\n",
       "      <th></th>\n",
       "      <th></th>\n",
       "      <th></th>\n",
       "      <th></th>\n",
       "      <th></th>\n",
       "      <th></th>\n",
       "      <th></th>\n",
       "      <th></th>\n",
       "      <th></th>\n",
       "      <th></th>\n",
       "      <th></th>\n",
       "      <th></th>\n",
       "      <th></th>\n",
       "      <th></th>\n",
       "    </tr>\n",
       "  </thead>\n",
       "  <tbody>\n",
       "    <tr>\n",
       "      <th>1999</th>\n",
       "      <td>265</td>\n",
       "      <td>1413</td>\n",
       "      <td>4712</td>\n",
       "      <td>2617</td>\n",
       "      <td>14252</td>\n",
       "      <td>1150</td>\n",
       "      <td>72</td>\n",
       "      <td>24142</td>\n",
       "      <td>1607</td>\n",
       "      <td>8963</td>\n",
       "      <td>...</td>\n",
       "      <td>6671</td>\n",
       "      <td>9190.0</td>\n",
       "      <td>3892.0</td>\n",
       "      <td>59027</td>\n",
       "      <td>4056000.0</td>\n",
       "      <td>Alabama</td>\n",
       "      <td>0</td>\n",
       "      <td>0</td>\n",
       "      <td>0</td>\n",
       "      <td>AL</td>\n",
       "    </tr>\n",
       "    <tr>\n",
       "      <th>1999</th>\n",
       "      <td>36</td>\n",
       "      <td>188</td>\n",
       "      <td>1089</td>\n",
       "      <td>605</td>\n",
       "      <td>3166</td>\n",
       "      <td>441</td>\n",
       "      <td>18</td>\n",
       "      <td>4391</td>\n",
       "      <td>101</td>\n",
       "      <td>225</td>\n",
       "      <td>...</td>\n",
       "      <td>1539</td>\n",
       "      <td>15.0</td>\n",
       "      <td>990.0</td>\n",
       "      <td>14555</td>\n",
       "      <td>558000.0</td>\n",
       "      <td>Alaska</td>\n",
       "      <td>0</td>\n",
       "      <td>1</td>\n",
       "      <td>0</td>\n",
       "      <td>AK</td>\n",
       "    </tr>\n",
       "    <tr>\n",
       "      <th>1999</th>\n",
       "      <td>243</td>\n",
       "      <td>1359</td>\n",
       "      <td>6040</td>\n",
       "      <td>4632</td>\n",
       "      <td>31589</td>\n",
       "      <td>3418</td>\n",
       "      <td>269</td>\n",
       "      <td>26033</td>\n",
       "      <td>1668</td>\n",
       "      <td>1889</td>\n",
       "      <td>...</td>\n",
       "      <td>25067</td>\n",
       "      <td>0.0</td>\n",
       "      <td>17604.0</td>\n",
       "      <td>60661</td>\n",
       "      <td>4409000.0</td>\n",
       "      <td>Arizona</td>\n",
       "      <td>0</td>\n",
       "      <td>0</td>\n",
       "      <td>0</td>\n",
       "      <td>AZ</td>\n",
       "    </tr>\n",
       "    <tr>\n",
       "      <th>1999</th>\n",
       "      <td>171</td>\n",
       "      <td>779</td>\n",
       "      <td>4117</td>\n",
       "      <td>3384</td>\n",
       "      <td>13824</td>\n",
       "      <td>537</td>\n",
       "      <td>115</td>\n",
       "      <td>8175</td>\n",
       "      <td>2029</td>\n",
       "      <td>21649</td>\n",
       "      <td>...</td>\n",
       "      <td>3521</td>\n",
       "      <td>17393.0</td>\n",
       "      <td>7718.0</td>\n",
       "      <td>85720</td>\n",
       "      <td>2428000.0</td>\n",
       "      <td>Arkansas</td>\n",
       "      <td>0</td>\n",
       "      <td>0</td>\n",
       "      <td>0</td>\n",
       "      <td>AR</td>\n",
       "    </tr>\n",
       "    <tr>\n",
       "      <th>1999</th>\n",
       "      <td>1770</td>\n",
       "      <td>18746</td>\n",
       "      <td>109685</td>\n",
       "      <td>49307</td>\n",
       "      <td>104527</td>\n",
       "      <td>19857</td>\n",
       "      <td>1783</td>\n",
       "      <td>78688</td>\n",
       "      <td>11200</td>\n",
       "      <td>9514</td>\n",
       "      <td>...</td>\n",
       "      <td>31671</td>\n",
       "      <td>117184.0</td>\n",
       "      <td>17212.0</td>\n",
       "      <td>342230</td>\n",
       "      <td>33037000.0</td>\n",
       "      <td>California</td>\n",
       "      <td>0</td>\n",
       "      <td>1</td>\n",
       "      <td>0</td>\n",
       "      <td>CA</td>\n",
       "    </tr>\n",
       "  </tbody>\n",
       "</table>\n",
       "<p>5 rows × 30 columns</p>\n",
       "</div>"
      ],
      "text/plain": [
       "      Murder/Manslaughter  Robbery  Aggravated Assault  Burglary  \\\n",
       "year                                                               \n",
       "1999                  265     1413                4712      2617   \n",
       "1999                   36      188                1089       605   \n",
       "1999                  243     1359                6040      4632   \n",
       "1999                  171      779                4117      3384   \n",
       "1999                 1770    18746              109685     49307   \n",
       "\n",
       "      Larceny/Theft  Auto Theft  Arson  Other Assaults  \\\n",
       "year                                                     \n",
       "1999          14252        1150     72           24142   \n",
       "1999           3166         441     18            4391   \n",
       "1999          31589        3418    269           26033   \n",
       "1999          13824         537    115            8175   \n",
       "1999         104527       19857   1783           78688   \n",
       "\n",
       "      Forgery/Counterfieting  Fraud  ...  Liqour Law Violations  \\\n",
       "year                                 ...                          \n",
       "1999                    1607   8963  ...                   6671   \n",
       "1999                     101    225  ...                   1539   \n",
       "1999                    1668   1889  ...                  25067   \n",
       "1999                    2029  21649  ...                   3521   \n",
       "1999                   11200   9514  ...                  31671   \n",
       "\n",
       "      Public Drunkenness  Disorderly Conduct  All Other Offenses  population  \\\n",
       "year                                                                           \n",
       "1999              9190.0              3892.0               59027   4056000.0   \n",
       "1999                15.0               990.0               14555    558000.0   \n",
       "1999                 0.0             17604.0               60661   4409000.0   \n",
       "1999             17393.0              7718.0               85720   2428000.0   \n",
       "1999            117184.0             17212.0              342230  33037000.0   \n",
       "\n",
       "           state  decrim  medical  recreational  st  \n",
       "year                                                 \n",
       "1999     Alabama       0        0             0  AL  \n",
       "1999      Alaska       0        1             0  AK  \n",
       "1999     Arizona       0        0             0  AZ  \n",
       "1999    Arkansas       0        0             0  AR  \n",
       "1999  California       0        1             0  CA  \n",
       "\n",
       "[5 rows x 30 columns]"
      ]
     },
     "execution_count": 24,
     "metadata": {},
     "output_type": "execute_result"
    }
   ],
   "source": [
    "# While we're at it, lets clean up the columns on the df:\n",
    "new_cols = []\n",
    "for col in data.columns:\n",
    "    if col in crime_dict.keys():\n",
    "        new_cols.append(crime_dict[col])\n",
    "    else:\n",
    "        new_cols.append(col)\n",
    "data.columns = new_cols\n",
    "data.head()"
   ]
  },
  {
   "cell_type": "code",
   "execution_count": 25,
   "metadata": {},
   "outputs": [],
   "source": [
    "# let's pickle both of those and call it good!\n",
    "\n",
    "with open('data.pkl', \"ab\") as data_out:\n",
    "    pickle.dump(data, data_out)\n",
    "    \n",
    "\n",
    "with open('legal.pkl', \"ab\") as data_out:\n",
    "    pickle.dump(legal_df, data_out)"
   ]
  },
  {
   "cell_type": "code",
   "execution_count": null,
   "metadata": {},
   "outputs": [],
   "source": []
  },
  {
   "cell_type": "code",
   "execution_count": 28,
   "metadata": {},
   "outputs": [],
   "source": [
    "import plotly.graph_objects as go\n"
   ]
  },
  {
   "cell_type": "code",
   "execution_count": 30,
   "metadata": {},
   "outputs": [
    {
     "name": "stdout",
     "output_type": "stream",
     "text": [
      "Int64Index([1999, 1999, 1999, 1999, 1999, 1999, 1999, 1999, 1999, 1999,\n",
      "            ...\n",
      "            2018, 2018, 2018, 2018, 2018, 2018, 2018, 2018, 2018, 2018],\n",
      "           dtype='int64', name='year', length=973)\n"
     ]
    }
   ],
   "source": []
  },
  {
   "cell_type": "code",
   "execution_count": 33,
   "metadata": {},
   "outputs": [
    {
     "data": {
      "text/html": [
       "<div>\n",
       "<style scoped>\n",
       "    .dataframe tbody tr th:only-of-type {\n",
       "        vertical-align: middle;\n",
       "    }\n",
       "\n",
       "    .dataframe tbody tr th {\n",
       "        vertical-align: top;\n",
       "    }\n",
       "\n",
       "    .dataframe thead th {\n",
       "        text-align: right;\n",
       "    }\n",
       "</style>\n",
       "<table border=\"1\" class=\"dataframe\">\n",
       "  <thead>\n",
       "    <tr style=\"text-align: right;\">\n",
       "      <th></th>\n",
       "      <th>Murder/Manslaughter</th>\n",
       "      <th>Robbery</th>\n",
       "      <th>Aggravated Assault</th>\n",
       "      <th>Burglary</th>\n",
       "      <th>Larceny/Theft</th>\n",
       "      <th>Auto Theft</th>\n",
       "      <th>Arson</th>\n",
       "      <th>Other Assaults</th>\n",
       "      <th>Forgery/Counterfieting</th>\n",
       "      <th>Fraud</th>\n",
       "      <th>...</th>\n",
       "      <th>Liqour Law Violations</th>\n",
       "      <th>Public Drunkenness</th>\n",
       "      <th>Disorderly Conduct</th>\n",
       "      <th>All Other Offenses</th>\n",
       "      <th>population</th>\n",
       "      <th>state</th>\n",
       "      <th>decrim</th>\n",
       "      <th>medical</th>\n",
       "      <th>recreational</th>\n",
       "      <th>st</th>\n",
       "    </tr>\n",
       "    <tr>\n",
       "      <th>year</th>\n",
       "      <th></th>\n",
       "      <th></th>\n",
       "      <th></th>\n",
       "      <th></th>\n",
       "      <th></th>\n",
       "      <th></th>\n",
       "      <th></th>\n",
       "      <th></th>\n",
       "      <th></th>\n",
       "      <th></th>\n",
       "      <th></th>\n",
       "      <th></th>\n",
       "      <th></th>\n",
       "      <th></th>\n",
       "      <th></th>\n",
       "      <th></th>\n",
       "      <th></th>\n",
       "      <th></th>\n",
       "      <th></th>\n",
       "      <th></th>\n",
       "      <th></th>\n",
       "    </tr>\n",
       "  </thead>\n",
       "  <tbody>\n",
       "    <tr>\n",
       "      <th>2015</th>\n",
       "      <td>283</td>\n",
       "      <td>1088</td>\n",
       "      <td>3830</td>\n",
       "      <td>3008</td>\n",
       "      <td>15558</td>\n",
       "      <td>727</td>\n",
       "      <td>93</td>\n",
       "      <td>18207</td>\n",
       "      <td>1184</td>\n",
       "      <td>4119</td>\n",
       "      <td>...</td>\n",
       "      <td>1739</td>\n",
       "      <td>7107.0</td>\n",
       "      <td>2187.0</td>\n",
       "      <td>57649</td>\n",
       "      <td>3663706.0</td>\n",
       "      <td>Alabama</td>\n",
       "      <td>0</td>\n",
       "      <td>0</td>\n",
       "      <td>0</td>\n",
       "      <td>AL</td>\n",
       "    </tr>\n",
       "    <tr>\n",
       "      <th>2015</th>\n",
       "      <td>47</td>\n",
       "      <td>294</td>\n",
       "      <td>1734</td>\n",
       "      <td>485</td>\n",
       "      <td>2540</td>\n",
       "      <td>361</td>\n",
       "      <td>67</td>\n",
       "      <td>4350</td>\n",
       "      <td>39</td>\n",
       "      <td>230</td>\n",
       "      <td>...</td>\n",
       "      <td>1100</td>\n",
       "      <td>80.0</td>\n",
       "      <td>795.0</td>\n",
       "      <td>13025</td>\n",
       "      <td>734820.0</td>\n",
       "      <td>Alaska</td>\n",
       "      <td>1</td>\n",
       "      <td>1</td>\n",
       "      <td>1</td>\n",
       "      <td>AK</td>\n",
       "    </tr>\n",
       "    <tr>\n",
       "      <th>2015</th>\n",
       "      <td>134</td>\n",
       "      <td>1047</td>\n",
       "      <td>5750</td>\n",
       "      <td>2672</td>\n",
       "      <td>26717</td>\n",
       "      <td>1064</td>\n",
       "      <td>156</td>\n",
       "      <td>20492</td>\n",
       "      <td>706</td>\n",
       "      <td>1505</td>\n",
       "      <td>...</td>\n",
       "      <td>10079</td>\n",
       "      <td>12521.0</td>\n",
       "      <td>16750.0</td>\n",
       "      <td>62041</td>\n",
       "      <td>5108556.0</td>\n",
       "      <td>Arizona</td>\n",
       "      <td>0</td>\n",
       "      <td>1</td>\n",
       "      <td>0</td>\n",
       "      <td>AZ</td>\n",
       "    </tr>\n",
       "    <tr>\n",
       "      <th>2015</th>\n",
       "      <td>123</td>\n",
       "      <td>589</td>\n",
       "      <td>3682</td>\n",
       "      <td>1977</td>\n",
       "      <td>13357</td>\n",
       "      <td>364</td>\n",
       "      <td>73</td>\n",
       "      <td>11084</td>\n",
       "      <td>700</td>\n",
       "      <td>1145</td>\n",
       "      <td>...</td>\n",
       "      <td>1890</td>\n",
       "      <td>6710.0</td>\n",
       "      <td>2185.0</td>\n",
       "      <td>58085</td>\n",
       "      <td>2686917.0</td>\n",
       "      <td>Arkansas</td>\n",
       "      <td>0</td>\n",
       "      <td>0</td>\n",
       "      <td>0</td>\n",
       "      <td>AR</td>\n",
       "    </tr>\n",
       "    <tr>\n",
       "      <th>2015</th>\n",
       "      <td>1431</td>\n",
       "      <td>15841</td>\n",
       "      <td>87717</td>\n",
       "      <td>44146</td>\n",
       "      <td>65037</td>\n",
       "      <td>17303</td>\n",
       "      <td>1185</td>\n",
       "      <td>81413</td>\n",
       "      <td>4860</td>\n",
       "      <td>6499</td>\n",
       "      <td>...</td>\n",
       "      <td>12186</td>\n",
       "      <td>78534.0</td>\n",
       "      <td>4674.0</td>\n",
       "      <td>299745</td>\n",
       "      <td>38908726.0</td>\n",
       "      <td>California</td>\n",
       "      <td>1</td>\n",
       "      <td>1</td>\n",
       "      <td>0</td>\n",
       "      <td>CA</td>\n",
       "    </tr>\n",
       "  </tbody>\n",
       "</table>\n",
       "<p>5 rows × 30 columns</p>\n",
       "</div>"
      ],
      "text/plain": [
       "      Murder/Manslaughter  Robbery  Aggravated Assault  Burglary  \\\n",
       "year                                                               \n",
       "2015                  283     1088                3830      3008   \n",
       "2015                   47      294                1734       485   \n",
       "2015                  134     1047                5750      2672   \n",
       "2015                  123      589                3682      1977   \n",
       "2015                 1431    15841               87717     44146   \n",
       "\n",
       "      Larceny/Theft  Auto Theft  Arson  Other Assaults  \\\n",
       "year                                                     \n",
       "2015          15558         727     93           18207   \n",
       "2015           2540         361     67            4350   \n",
       "2015          26717        1064    156           20492   \n",
       "2015          13357         364     73           11084   \n",
       "2015          65037       17303   1185           81413   \n",
       "\n",
       "      Forgery/Counterfieting  Fraud  ...  Liqour Law Violations  \\\n",
       "year                                 ...                          \n",
       "2015                    1184   4119  ...                   1739   \n",
       "2015                      39    230  ...                   1100   \n",
       "2015                     706   1505  ...                  10079   \n",
       "2015                     700   1145  ...                   1890   \n",
       "2015                    4860   6499  ...                  12186   \n",
       "\n",
       "      Public Drunkenness  Disorderly Conduct  All Other Offenses  population  \\\n",
       "year                                                                           \n",
       "2015              7107.0              2187.0               57649   3663706.0   \n",
       "2015                80.0               795.0               13025    734820.0   \n",
       "2015             12521.0             16750.0               62041   5108556.0   \n",
       "2015              6710.0              2185.0               58085   2686917.0   \n",
       "2015             78534.0              4674.0              299745  38908726.0   \n",
       "\n",
       "           state  decrim  medical  recreational  st  \n",
       "year                                                 \n",
       "2015     Alabama       0        0             0  AL  \n",
       "2015      Alaska       1        1             1  AK  \n",
       "2015     Arizona       0        1             0  AZ  \n",
       "2015    Arkansas       0        0             0  AR  \n",
       "2015  California       1        1             0  CA  \n",
       "\n",
       "[5 rows x 30 columns]"
      ]
     },
     "execution_count": 33,
     "metadata": {},
     "output_type": "execute_result"
    }
   ],
   "source": [
    "df = data[data.index==2015]\n",
    "df.head()"
   ]
  },
  {
   "cell_type": "code",
   "execution_count": 35,
   "metadata": {},
   "outputs": [
    {
     "data": {
      "text/plain": [
       "pandas.core.frame.DataFrame"
      ]
     },
     "execution_count": 35,
     "metadata": {},
     "output_type": "execute_result"
    }
   ],
   "source": [
    "df.index = range(len(df))\n",
    "type(df)"
   ]
  },
  {
   "cell_type": "code",
   "execution_count": 36,
   "metadata": {},
   "outputs": [
    {
     "data": {
      "text/plain": [
       "0     AL\n",
       "1     AK\n",
       "2     AZ\n",
       "3     AR\n",
       "4     CA\n",
       "5     CO\n",
       "6     CT\n",
       "7     DE\n",
       "8     FL\n",
       "9     GA\n",
       "10    HI\n",
       "11    ID\n",
       "12    IL\n",
       "13    IN\n",
       "14    IA\n",
       "15    KS\n",
       "16    KY\n",
       "17    LA\n",
       "18    ME\n",
       "19    MD\n",
       "20    MA\n",
       "21    MI\n",
       "22    MN\n",
       "23    MS\n",
       "24    MO\n",
       "25    MT\n",
       "26    NE\n",
       "27    NV\n",
       "28    NH\n",
       "29    NJ\n",
       "30    NM\n",
       "31    NY\n",
       "32    NC\n",
       "33    ND\n",
       "34    OH\n",
       "35    OK\n",
       "36    OR\n",
       "37    PA\n",
       "38    RI\n",
       "39    SC\n",
       "40    SD\n",
       "41    TN\n",
       "42    TX\n",
       "43    UT\n",
       "44    VT\n",
       "45    VA\n",
       "46    WA\n",
       "47    WV\n",
       "48    WI\n",
       "49    WY\n",
       "Name: st, dtype: object"
      ]
     },
     "execution_count": 36,
     "metadata": {},
     "output_type": "execute_result"
    }
   ],
   "source": [
    "df['st']"
   ]
  },
  {
   "cell_type": "code",
   "execution_count": 38,
   "metadata": {},
   "outputs": [
    {
     "data": {
      "application/vnd.plotly.v1+json": {
       "config": {
        "plotlyServerURL": "https://plot.ly"
       },
       "data": [
        {
         "autocolorscale": false,
         "colorbar": {
          "title": {
           "text": "Millions USD"
          }
         },
         "colorscale": [
          [
           0,
           "rgb(255,245,240)"
          ],
          [
           0.125,
           "rgb(254,224,210)"
          ],
          [
           0.25,
           "rgb(252,187,161)"
          ],
          [
           0.375,
           "rgb(252,146,114)"
          ],
          [
           0.5,
           "rgb(251,106,74)"
          ],
          [
           0.625,
           "rgb(239,59,44)"
          ],
          [
           0.75,
           "rgb(203,24,29)"
          ],
          [
           0.875,
           "rgb(165,15,21)"
          ],
          [
           1,
           "rgb(103,0,13)"
          ]
         ],
         "locationmode": "USA-states",
         "locations": [
          "AL",
          "AK",
          "AZ",
          "AR",
          "CA",
          "CO",
          "CT",
          "DE",
          "FL",
          "GA",
          "HI",
          "ID",
          "IL",
          "IN",
          "IA",
          "KS",
          "KY",
          "LA",
          "ME",
          "MD",
          "MA",
          "MI",
          "MN",
          "MS",
          "MO",
          "MT",
          "NE",
          "NV",
          "NH",
          "NJ",
          "NM",
          "NY",
          "NC",
          "ND",
          "OH",
          "OK",
          "OR",
          "PA",
          "RI",
          "SC",
          "SD",
          "TN",
          "TX",
          "UT",
          "VT",
          "VA",
          "WA",
          "WV",
          "WI",
          "WY"
         ],
         "marker": {
          "line": {
           "color": "white"
          }
         },
         "type": "choropleth",
         "z": [
          112.42714344437026,
          31.300182357584173,
          29.460379802041906,
          42.61389540503112,
          16.703194034160873,
          40.79973753409364,
          23.808434789272635,
          180.2451333813987,
          58.746108812035004,
          54.676445758029814,
          23.363020976041735,
          23.22883437445145,
          7.855751713753092,
          33.3587545894864,
          26.0912161703209,
          30.894687865447793,
          25.902094646482052,
          34.60621250402692,
          42.42320119598765,
          17.97443318383973,
          19.1468697289604,
          39.57730020282423,
          51.23430249499094,
          85.00887972284274,
          41.7146238833929,
          24.98907428366521,
          70.73203820041995,
          56.696225498081006,
          67.18820626288898,
          43.09615703756671,
          33.21378904680229,
          45.42360951269628,
          123.12584959927308,
          40.16862763010471,
          26.0531537481514,
          45.95103388427,
          63.92619364062017,
          66.8015998327915,
          41.276230760637624,
          75.35756294767263,
          91.726288754357,
          95.664241069471,
          25.257930593814766,
          37.107323488653314,
          31.530227034770647,
          64.08458408045057,
          14.21188887158672,
          54.3845312855645,
          52.52198199422876,
          29.77519726068185
         ]
        }
       ],
       "layout": {
        "geo": {
         "lakecolor": "rgb(255, 255, 255)",
         "projection": {
          "type": "albers usa"
         },
         "scope": "usa",
         "showlakes": true
        },
        "template": {
         "data": {
          "bar": [
           {
            "error_x": {
             "color": "#2a3f5f"
            },
            "error_y": {
             "color": "#2a3f5f"
            },
            "marker": {
             "line": {
              "color": "#E5ECF6",
              "width": 0.5
             }
            },
            "type": "bar"
           }
          ],
          "barpolar": [
           {
            "marker": {
             "line": {
              "color": "#E5ECF6",
              "width": 0.5
             }
            },
            "type": "barpolar"
           }
          ],
          "carpet": [
           {
            "aaxis": {
             "endlinecolor": "#2a3f5f",
             "gridcolor": "white",
             "linecolor": "white",
             "minorgridcolor": "white",
             "startlinecolor": "#2a3f5f"
            },
            "baxis": {
             "endlinecolor": "#2a3f5f",
             "gridcolor": "white",
             "linecolor": "white",
             "minorgridcolor": "white",
             "startlinecolor": "#2a3f5f"
            },
            "type": "carpet"
           }
          ],
          "choropleth": [
           {
            "colorbar": {
             "outlinewidth": 0,
             "ticks": ""
            },
            "type": "choropleth"
           }
          ],
          "contour": [
           {
            "colorbar": {
             "outlinewidth": 0,
             "ticks": ""
            },
            "colorscale": [
             [
              0,
              "#0d0887"
             ],
             [
              0.1111111111111111,
              "#46039f"
             ],
             [
              0.2222222222222222,
              "#7201a8"
             ],
             [
              0.3333333333333333,
              "#9c179e"
             ],
             [
              0.4444444444444444,
              "#bd3786"
             ],
             [
              0.5555555555555556,
              "#d8576b"
             ],
             [
              0.6666666666666666,
              "#ed7953"
             ],
             [
              0.7777777777777778,
              "#fb9f3a"
             ],
             [
              0.8888888888888888,
              "#fdca26"
             ],
             [
              1,
              "#f0f921"
             ]
            ],
            "type": "contour"
           }
          ],
          "contourcarpet": [
           {
            "colorbar": {
             "outlinewidth": 0,
             "ticks": ""
            },
            "type": "contourcarpet"
           }
          ],
          "heatmap": [
           {
            "colorbar": {
             "outlinewidth": 0,
             "ticks": ""
            },
            "colorscale": [
             [
              0,
              "#0d0887"
             ],
             [
              0.1111111111111111,
              "#46039f"
             ],
             [
              0.2222222222222222,
              "#7201a8"
             ],
             [
              0.3333333333333333,
              "#9c179e"
             ],
             [
              0.4444444444444444,
              "#bd3786"
             ],
             [
              0.5555555555555556,
              "#d8576b"
             ],
             [
              0.6666666666666666,
              "#ed7953"
             ],
             [
              0.7777777777777778,
              "#fb9f3a"
             ],
             [
              0.8888888888888888,
              "#fdca26"
             ],
             [
              1,
              "#f0f921"
             ]
            ],
            "type": "heatmap"
           }
          ],
          "heatmapgl": [
           {
            "colorbar": {
             "outlinewidth": 0,
             "ticks": ""
            },
            "colorscale": [
             [
              0,
              "#0d0887"
             ],
             [
              0.1111111111111111,
              "#46039f"
             ],
             [
              0.2222222222222222,
              "#7201a8"
             ],
             [
              0.3333333333333333,
              "#9c179e"
             ],
             [
              0.4444444444444444,
              "#bd3786"
             ],
             [
              0.5555555555555556,
              "#d8576b"
             ],
             [
              0.6666666666666666,
              "#ed7953"
             ],
             [
              0.7777777777777778,
              "#fb9f3a"
             ],
             [
              0.8888888888888888,
              "#fdca26"
             ],
             [
              1,
              "#f0f921"
             ]
            ],
            "type": "heatmapgl"
           }
          ],
          "histogram": [
           {
            "marker": {
             "colorbar": {
              "outlinewidth": 0,
              "ticks": ""
             }
            },
            "type": "histogram"
           }
          ],
          "histogram2d": [
           {
            "colorbar": {
             "outlinewidth": 0,
             "ticks": ""
            },
            "colorscale": [
             [
              0,
              "#0d0887"
             ],
             [
              0.1111111111111111,
              "#46039f"
             ],
             [
              0.2222222222222222,
              "#7201a8"
             ],
             [
              0.3333333333333333,
              "#9c179e"
             ],
             [
              0.4444444444444444,
              "#bd3786"
             ],
             [
              0.5555555555555556,
              "#d8576b"
             ],
             [
              0.6666666666666666,
              "#ed7953"
             ],
             [
              0.7777777777777778,
              "#fb9f3a"
             ],
             [
              0.8888888888888888,
              "#fdca26"
             ],
             [
              1,
              "#f0f921"
             ]
            ],
            "type": "histogram2d"
           }
          ],
          "histogram2dcontour": [
           {
            "colorbar": {
             "outlinewidth": 0,
             "ticks": ""
            },
            "colorscale": [
             [
              0,
              "#0d0887"
             ],
             [
              0.1111111111111111,
              "#46039f"
             ],
             [
              0.2222222222222222,
              "#7201a8"
             ],
             [
              0.3333333333333333,
              "#9c179e"
             ],
             [
              0.4444444444444444,
              "#bd3786"
             ],
             [
              0.5555555555555556,
              "#d8576b"
             ],
             [
              0.6666666666666666,
              "#ed7953"
             ],
             [
              0.7777777777777778,
              "#fb9f3a"
             ],
             [
              0.8888888888888888,
              "#fdca26"
             ],
             [
              1,
              "#f0f921"
             ]
            ],
            "type": "histogram2dcontour"
           }
          ],
          "mesh3d": [
           {
            "colorbar": {
             "outlinewidth": 0,
             "ticks": ""
            },
            "type": "mesh3d"
           }
          ],
          "parcoords": [
           {
            "line": {
             "colorbar": {
              "outlinewidth": 0,
              "ticks": ""
             }
            },
            "type": "parcoords"
           }
          ],
          "pie": [
           {
            "automargin": true,
            "type": "pie"
           }
          ],
          "scatter": [
           {
            "marker": {
             "colorbar": {
              "outlinewidth": 0,
              "ticks": ""
             }
            },
            "type": "scatter"
           }
          ],
          "scatter3d": [
           {
            "line": {
             "colorbar": {
              "outlinewidth": 0,
              "ticks": ""
             }
            },
            "marker": {
             "colorbar": {
              "outlinewidth": 0,
              "ticks": ""
             }
            },
            "type": "scatter3d"
           }
          ],
          "scattercarpet": [
           {
            "marker": {
             "colorbar": {
              "outlinewidth": 0,
              "ticks": ""
             }
            },
            "type": "scattercarpet"
           }
          ],
          "scattergeo": [
           {
            "marker": {
             "colorbar": {
              "outlinewidth": 0,
              "ticks": ""
             }
            },
            "type": "scattergeo"
           }
          ],
          "scattergl": [
           {
            "marker": {
             "colorbar": {
              "outlinewidth": 0,
              "ticks": ""
             }
            },
            "type": "scattergl"
           }
          ],
          "scattermapbox": [
           {
            "marker": {
             "colorbar": {
              "outlinewidth": 0,
              "ticks": ""
             }
            },
            "type": "scattermapbox"
           }
          ],
          "scatterpolar": [
           {
            "marker": {
             "colorbar": {
              "outlinewidth": 0,
              "ticks": ""
             }
            },
            "type": "scatterpolar"
           }
          ],
          "scatterpolargl": [
           {
            "marker": {
             "colorbar": {
              "outlinewidth": 0,
              "ticks": ""
             }
            },
            "type": "scatterpolargl"
           }
          ],
          "scatterternary": [
           {
            "marker": {
             "colorbar": {
              "outlinewidth": 0,
              "ticks": ""
             }
            },
            "type": "scatterternary"
           }
          ],
          "surface": [
           {
            "colorbar": {
             "outlinewidth": 0,
             "ticks": ""
            },
            "colorscale": [
             [
              0,
              "#0d0887"
             ],
             [
              0.1111111111111111,
              "#46039f"
             ],
             [
              0.2222222222222222,
              "#7201a8"
             ],
             [
              0.3333333333333333,
              "#9c179e"
             ],
             [
              0.4444444444444444,
              "#bd3786"
             ],
             [
              0.5555555555555556,
              "#d8576b"
             ],
             [
              0.6666666666666666,
              "#ed7953"
             ],
             [
              0.7777777777777778,
              "#fb9f3a"
             ],
             [
              0.8888888888888888,
              "#fdca26"
             ],
             [
              1,
              "#f0f921"
             ]
            ],
            "type": "surface"
           }
          ],
          "table": [
           {
            "cells": {
             "fill": {
              "color": "#EBF0F8"
             },
             "line": {
              "color": "white"
             }
            },
            "header": {
             "fill": {
              "color": "#C8D4E3"
             },
             "line": {
              "color": "white"
             }
            },
            "type": "table"
           }
          ]
         },
         "layout": {
          "annotationdefaults": {
           "arrowcolor": "#2a3f5f",
           "arrowhead": 0,
           "arrowwidth": 1
          },
          "coloraxis": {
           "colorbar": {
            "outlinewidth": 0,
            "ticks": ""
           }
          },
          "colorscale": {
           "diverging": [
            [
             0,
             "#8e0152"
            ],
            [
             0.1,
             "#c51b7d"
            ],
            [
             0.2,
             "#de77ae"
            ],
            [
             0.3,
             "#f1b6da"
            ],
            [
             0.4,
             "#fde0ef"
            ],
            [
             0.5,
             "#f7f7f7"
            ],
            [
             0.6,
             "#e6f5d0"
            ],
            [
             0.7,
             "#b8e186"
            ],
            [
             0.8,
             "#7fbc41"
            ],
            [
             0.9,
             "#4d9221"
            ],
            [
             1,
             "#276419"
            ]
           ],
           "sequential": [
            [
             0,
             "#0d0887"
            ],
            [
             0.1111111111111111,
             "#46039f"
            ],
            [
             0.2222222222222222,
             "#7201a8"
            ],
            [
             0.3333333333333333,
             "#9c179e"
            ],
            [
             0.4444444444444444,
             "#bd3786"
            ],
            [
             0.5555555555555556,
             "#d8576b"
            ],
            [
             0.6666666666666666,
             "#ed7953"
            ],
            [
             0.7777777777777778,
             "#fb9f3a"
            ],
            [
             0.8888888888888888,
             "#fdca26"
            ],
            [
             1,
             "#f0f921"
            ]
           ],
           "sequentialminus": [
            [
             0,
             "#0d0887"
            ],
            [
             0.1111111111111111,
             "#46039f"
            ],
            [
             0.2222222222222222,
             "#7201a8"
            ],
            [
             0.3333333333333333,
             "#9c179e"
            ],
            [
             0.4444444444444444,
             "#bd3786"
            ],
            [
             0.5555555555555556,
             "#d8576b"
            ],
            [
             0.6666666666666666,
             "#ed7953"
            ],
            [
             0.7777777777777778,
             "#fb9f3a"
            ],
            [
             0.8888888888888888,
             "#fdca26"
            ],
            [
             1,
             "#f0f921"
            ]
           ]
          },
          "colorway": [
           "#636efa",
           "#EF553B",
           "#00cc96",
           "#ab63fa",
           "#FFA15A",
           "#19d3f3",
           "#FF6692",
           "#B6E880",
           "#FF97FF",
           "#FECB52"
          ],
          "font": {
           "color": "#2a3f5f"
          },
          "geo": {
           "bgcolor": "white",
           "lakecolor": "white",
           "landcolor": "#E5ECF6",
           "showlakes": true,
           "showland": true,
           "subunitcolor": "white"
          },
          "hoverlabel": {
           "align": "left"
          },
          "hovermode": "closest",
          "mapbox": {
           "style": "light"
          },
          "paper_bgcolor": "white",
          "plot_bgcolor": "#E5ECF6",
          "polar": {
           "angularaxis": {
            "gridcolor": "white",
            "linecolor": "white",
            "ticks": ""
           },
           "bgcolor": "#E5ECF6",
           "radialaxis": {
            "gridcolor": "white",
            "linecolor": "white",
            "ticks": ""
           }
          },
          "scene": {
           "xaxis": {
            "backgroundcolor": "#E5ECF6",
            "gridcolor": "white",
            "gridwidth": 2,
            "linecolor": "white",
            "showbackground": true,
            "ticks": "",
            "zerolinecolor": "white"
           },
           "yaxis": {
            "backgroundcolor": "#E5ECF6",
            "gridcolor": "white",
            "gridwidth": 2,
            "linecolor": "white",
            "showbackground": true,
            "ticks": "",
            "zerolinecolor": "white"
           },
           "zaxis": {
            "backgroundcolor": "#E5ECF6",
            "gridcolor": "white",
            "gridwidth": 2,
            "linecolor": "white",
            "showbackground": true,
            "ticks": "",
            "zerolinecolor": "white"
           }
          },
          "shapedefaults": {
           "line": {
            "color": "#2a3f5f"
           }
          },
          "ternary": {
           "aaxis": {
            "gridcolor": "white",
            "linecolor": "white",
            "ticks": ""
           },
           "baxis": {
            "gridcolor": "white",
            "linecolor": "white",
            "ticks": ""
           },
           "bgcolor": "#E5ECF6",
           "caxis": {
            "gridcolor": "white",
            "linecolor": "white",
            "ticks": ""
           }
          },
          "title": {
           "x": 0.05
          },
          "xaxis": {
           "automargin": true,
           "gridcolor": "white",
           "linecolor": "white",
           "ticks": "",
           "title": {
            "standoff": 15
           },
           "zerolinecolor": "white",
           "zerolinewidth": 2
          },
          "yaxis": {
           "automargin": true,
           "gridcolor": "white",
           "linecolor": "white",
           "ticks": "",
           "title": {
            "standoff": 15
           },
           "zerolinecolor": "white",
           "zerolinewidth": 2
          }
         }
        },
        "title": {
         "text": "2015, arrest rate for Fraud"
        }
       }
      },
      "text/html": [
       "<div>\n",
       "        \n",
       "        \n",
       "            <div id=\"87975801-5c93-48db-a395-5c4e2ab5c768\" class=\"plotly-graph-div\" style=\"height:525px; width:100%;\"></div>\n",
       "            <script type=\"text/javascript\">\n",
       "                require([\"plotly\"], function(Plotly) {\n",
       "                    window.PLOTLYENV=window.PLOTLYENV || {};\n",
       "                    \n",
       "                if (document.getElementById(\"87975801-5c93-48db-a395-5c4e2ab5c768\")) {\n",
       "                    Plotly.newPlot(\n",
       "                        '87975801-5c93-48db-a395-5c4e2ab5c768',\n",
       "                        [{\"autocolorscale\": false, \"colorbar\": {\"title\": {\"text\": \"Millions USD\"}}, \"colorscale\": [[0.0, \"rgb(255,245,240)\"], [0.125, \"rgb(254,224,210)\"], [0.25, \"rgb(252,187,161)\"], [0.375, \"rgb(252,146,114)\"], [0.5, \"rgb(251,106,74)\"], [0.625, \"rgb(239,59,44)\"], [0.75, \"rgb(203,24,29)\"], [0.875, \"rgb(165,15,21)\"], [1.0, \"rgb(103,0,13)\"]], \"locationmode\": \"USA-states\", \"locations\": [\"AL\", \"AK\", \"AZ\", \"AR\", \"CA\", \"CO\", \"CT\", \"DE\", \"FL\", \"GA\", \"HI\", \"ID\", \"IL\", \"IN\", \"IA\", \"KS\", \"KY\", \"LA\", \"ME\", \"MD\", \"MA\", \"MI\", \"MN\", \"MS\", \"MO\", \"MT\", \"NE\", \"NV\", \"NH\", \"NJ\", \"NM\", \"NY\", \"NC\", \"ND\", \"OH\", \"OK\", \"OR\", \"PA\", \"RI\", \"SC\", \"SD\", \"TN\", \"TX\", \"UT\", \"VT\", \"VA\", \"WA\", \"WV\", \"WI\", \"WY\"], \"marker\": {\"line\": {\"color\": \"white\"}}, \"type\": \"choropleth\", \"z\": [112.42714344437026, 31.300182357584173, 29.460379802041906, 42.61389540503112, 16.703194034160873, 40.79973753409364, 23.808434789272635, 180.2451333813987, 58.746108812035004, 54.676445758029814, 23.363020976041735, 23.22883437445145, 7.855751713753092, 33.3587545894864, 26.0912161703209, 30.894687865447793, 25.902094646482052, 34.60621250402692, 42.42320119598765, 17.97443318383973, 19.1468697289604, 39.57730020282423, 51.23430249499094, 85.00887972284274, 41.7146238833929, 24.98907428366521, 70.73203820041995, 56.696225498081006, 67.18820626288898, 43.09615703756671, 33.21378904680229, 45.42360951269628, 123.12584959927308, 40.16862763010471, 26.0531537481514, 45.95103388427, 63.92619364062017, 66.8015998327915, 41.276230760637624, 75.35756294767263, 91.726288754357, 95.664241069471, 25.257930593814766, 37.107323488653314, 31.530227034770647, 64.08458408045057, 14.21188887158672, 54.3845312855645, 52.52198199422876, 29.77519726068185]}],\n",
       "                        {\"geo\": {\"lakecolor\": \"rgb(255, 255, 255)\", \"projection\": {\"type\": \"albers usa\"}, \"scope\": \"usa\", \"showlakes\": true}, \"template\": {\"data\": {\"bar\": [{\"error_x\": {\"color\": \"#2a3f5f\"}, \"error_y\": {\"color\": \"#2a3f5f\"}, \"marker\": {\"line\": {\"color\": \"#E5ECF6\", \"width\": 0.5}}, \"type\": \"bar\"}], \"barpolar\": [{\"marker\": {\"line\": {\"color\": \"#E5ECF6\", \"width\": 0.5}}, \"type\": \"barpolar\"}], \"carpet\": [{\"aaxis\": {\"endlinecolor\": \"#2a3f5f\", \"gridcolor\": \"white\", \"linecolor\": \"white\", \"minorgridcolor\": \"white\", \"startlinecolor\": \"#2a3f5f\"}, \"baxis\": {\"endlinecolor\": \"#2a3f5f\", \"gridcolor\": \"white\", \"linecolor\": \"white\", \"minorgridcolor\": \"white\", \"startlinecolor\": \"#2a3f5f\"}, \"type\": \"carpet\"}], \"choropleth\": [{\"colorbar\": {\"outlinewidth\": 0, \"ticks\": \"\"}, \"type\": \"choropleth\"}], \"contour\": [{\"colorbar\": {\"outlinewidth\": 0, \"ticks\": \"\"}, \"colorscale\": [[0.0, \"#0d0887\"], [0.1111111111111111, \"#46039f\"], [0.2222222222222222, \"#7201a8\"], [0.3333333333333333, \"#9c179e\"], [0.4444444444444444, \"#bd3786\"], [0.5555555555555556, \"#d8576b\"], [0.6666666666666666, \"#ed7953\"], [0.7777777777777778, \"#fb9f3a\"], [0.8888888888888888, \"#fdca26\"], [1.0, \"#f0f921\"]], \"type\": \"contour\"}], \"contourcarpet\": [{\"colorbar\": {\"outlinewidth\": 0, \"ticks\": \"\"}, \"type\": \"contourcarpet\"}], \"heatmap\": [{\"colorbar\": {\"outlinewidth\": 0, \"ticks\": \"\"}, \"colorscale\": [[0.0, \"#0d0887\"], [0.1111111111111111, \"#46039f\"], [0.2222222222222222, \"#7201a8\"], [0.3333333333333333, \"#9c179e\"], [0.4444444444444444, \"#bd3786\"], [0.5555555555555556, \"#d8576b\"], [0.6666666666666666, \"#ed7953\"], [0.7777777777777778, \"#fb9f3a\"], [0.8888888888888888, \"#fdca26\"], [1.0, \"#f0f921\"]], \"type\": \"heatmap\"}], \"heatmapgl\": [{\"colorbar\": {\"outlinewidth\": 0, \"ticks\": \"\"}, \"colorscale\": [[0.0, \"#0d0887\"], [0.1111111111111111, \"#46039f\"], [0.2222222222222222, \"#7201a8\"], [0.3333333333333333, \"#9c179e\"], [0.4444444444444444, \"#bd3786\"], [0.5555555555555556, \"#d8576b\"], [0.6666666666666666, \"#ed7953\"], [0.7777777777777778, \"#fb9f3a\"], [0.8888888888888888, \"#fdca26\"], [1.0, \"#f0f921\"]], \"type\": \"heatmapgl\"}], \"histogram\": [{\"marker\": {\"colorbar\": {\"outlinewidth\": 0, \"ticks\": \"\"}}, \"type\": \"histogram\"}], \"histogram2d\": [{\"colorbar\": {\"outlinewidth\": 0, \"ticks\": \"\"}, \"colorscale\": [[0.0, \"#0d0887\"], [0.1111111111111111, \"#46039f\"], [0.2222222222222222, \"#7201a8\"], [0.3333333333333333, \"#9c179e\"], [0.4444444444444444, \"#bd3786\"], [0.5555555555555556, \"#d8576b\"], [0.6666666666666666, \"#ed7953\"], [0.7777777777777778, \"#fb9f3a\"], [0.8888888888888888, \"#fdca26\"], [1.0, \"#f0f921\"]], \"type\": \"histogram2d\"}], \"histogram2dcontour\": [{\"colorbar\": {\"outlinewidth\": 0, \"ticks\": \"\"}, \"colorscale\": [[0.0, \"#0d0887\"], [0.1111111111111111, \"#46039f\"], [0.2222222222222222, \"#7201a8\"], [0.3333333333333333, \"#9c179e\"], [0.4444444444444444, \"#bd3786\"], [0.5555555555555556, \"#d8576b\"], [0.6666666666666666, \"#ed7953\"], [0.7777777777777778, \"#fb9f3a\"], [0.8888888888888888, \"#fdca26\"], [1.0, \"#f0f921\"]], \"type\": \"histogram2dcontour\"}], \"mesh3d\": [{\"colorbar\": {\"outlinewidth\": 0, \"ticks\": \"\"}, \"type\": \"mesh3d\"}], \"parcoords\": [{\"line\": {\"colorbar\": {\"outlinewidth\": 0, \"ticks\": \"\"}}, \"type\": \"parcoords\"}], \"pie\": [{\"automargin\": true, \"type\": \"pie\"}], \"scatter\": [{\"marker\": {\"colorbar\": {\"outlinewidth\": 0, \"ticks\": \"\"}}, \"type\": \"scatter\"}], \"scatter3d\": [{\"line\": {\"colorbar\": {\"outlinewidth\": 0, \"ticks\": \"\"}}, \"marker\": {\"colorbar\": {\"outlinewidth\": 0, \"ticks\": \"\"}}, \"type\": \"scatter3d\"}], \"scattercarpet\": [{\"marker\": {\"colorbar\": {\"outlinewidth\": 0, \"ticks\": \"\"}}, \"type\": \"scattercarpet\"}], \"scattergeo\": [{\"marker\": {\"colorbar\": {\"outlinewidth\": 0, \"ticks\": \"\"}}, \"type\": \"scattergeo\"}], \"scattergl\": [{\"marker\": {\"colorbar\": {\"outlinewidth\": 0, \"ticks\": \"\"}}, \"type\": \"scattergl\"}], \"scattermapbox\": [{\"marker\": {\"colorbar\": {\"outlinewidth\": 0, \"ticks\": \"\"}}, \"type\": \"scattermapbox\"}], \"scatterpolar\": [{\"marker\": {\"colorbar\": {\"outlinewidth\": 0, \"ticks\": \"\"}}, \"type\": \"scatterpolar\"}], \"scatterpolargl\": [{\"marker\": {\"colorbar\": {\"outlinewidth\": 0, \"ticks\": \"\"}}, \"type\": \"scatterpolargl\"}], \"scatterternary\": [{\"marker\": {\"colorbar\": {\"outlinewidth\": 0, \"ticks\": \"\"}}, \"type\": \"scatterternary\"}], \"surface\": [{\"colorbar\": {\"outlinewidth\": 0, \"ticks\": \"\"}, \"colorscale\": [[0.0, \"#0d0887\"], [0.1111111111111111, \"#46039f\"], [0.2222222222222222, \"#7201a8\"], [0.3333333333333333, \"#9c179e\"], [0.4444444444444444, \"#bd3786\"], [0.5555555555555556, \"#d8576b\"], [0.6666666666666666, \"#ed7953\"], [0.7777777777777778, \"#fb9f3a\"], [0.8888888888888888, \"#fdca26\"], [1.0, \"#f0f921\"]], \"type\": \"surface\"}], \"table\": [{\"cells\": {\"fill\": {\"color\": \"#EBF0F8\"}, \"line\": {\"color\": \"white\"}}, \"header\": {\"fill\": {\"color\": \"#C8D4E3\"}, \"line\": {\"color\": \"white\"}}, \"type\": \"table\"}]}, \"layout\": {\"annotationdefaults\": {\"arrowcolor\": \"#2a3f5f\", \"arrowhead\": 0, \"arrowwidth\": 1}, \"coloraxis\": {\"colorbar\": {\"outlinewidth\": 0, \"ticks\": \"\"}}, \"colorscale\": {\"diverging\": [[0, \"#8e0152\"], [0.1, \"#c51b7d\"], [0.2, \"#de77ae\"], [0.3, \"#f1b6da\"], [0.4, \"#fde0ef\"], [0.5, \"#f7f7f7\"], [0.6, \"#e6f5d0\"], [0.7, \"#b8e186\"], [0.8, \"#7fbc41\"], [0.9, \"#4d9221\"], [1, \"#276419\"]], \"sequential\": [[0.0, \"#0d0887\"], [0.1111111111111111, \"#46039f\"], [0.2222222222222222, \"#7201a8\"], [0.3333333333333333, \"#9c179e\"], [0.4444444444444444, \"#bd3786\"], [0.5555555555555556, \"#d8576b\"], [0.6666666666666666, \"#ed7953\"], [0.7777777777777778, \"#fb9f3a\"], [0.8888888888888888, \"#fdca26\"], [1.0, \"#f0f921\"]], \"sequentialminus\": [[0.0, \"#0d0887\"], [0.1111111111111111, \"#46039f\"], [0.2222222222222222, \"#7201a8\"], [0.3333333333333333, \"#9c179e\"], [0.4444444444444444, \"#bd3786\"], [0.5555555555555556, \"#d8576b\"], [0.6666666666666666, \"#ed7953\"], [0.7777777777777778, \"#fb9f3a\"], [0.8888888888888888, \"#fdca26\"], [1.0, \"#f0f921\"]]}, \"colorway\": [\"#636efa\", \"#EF553B\", \"#00cc96\", \"#ab63fa\", \"#FFA15A\", \"#19d3f3\", \"#FF6692\", \"#B6E880\", \"#FF97FF\", \"#FECB52\"], \"font\": {\"color\": \"#2a3f5f\"}, \"geo\": {\"bgcolor\": \"white\", \"lakecolor\": \"white\", \"landcolor\": \"#E5ECF6\", \"showlakes\": true, \"showland\": true, \"subunitcolor\": \"white\"}, \"hoverlabel\": {\"align\": \"left\"}, \"hovermode\": \"closest\", \"mapbox\": {\"style\": \"light\"}, \"paper_bgcolor\": \"white\", \"plot_bgcolor\": \"#E5ECF6\", \"polar\": {\"angularaxis\": {\"gridcolor\": \"white\", \"linecolor\": \"white\", \"ticks\": \"\"}, \"bgcolor\": \"#E5ECF6\", \"radialaxis\": {\"gridcolor\": \"white\", \"linecolor\": \"white\", \"ticks\": \"\"}}, \"scene\": {\"xaxis\": {\"backgroundcolor\": \"#E5ECF6\", \"gridcolor\": \"white\", \"gridwidth\": 2, \"linecolor\": \"white\", \"showbackground\": true, \"ticks\": \"\", \"zerolinecolor\": \"white\"}, \"yaxis\": {\"backgroundcolor\": \"#E5ECF6\", \"gridcolor\": \"white\", \"gridwidth\": 2, \"linecolor\": \"white\", \"showbackground\": true, \"ticks\": \"\", \"zerolinecolor\": \"white\"}, \"zaxis\": {\"backgroundcolor\": \"#E5ECF6\", \"gridcolor\": \"white\", \"gridwidth\": 2, \"linecolor\": \"white\", \"showbackground\": true, \"ticks\": \"\", \"zerolinecolor\": \"white\"}}, \"shapedefaults\": {\"line\": {\"color\": \"#2a3f5f\"}}, \"ternary\": {\"aaxis\": {\"gridcolor\": \"white\", \"linecolor\": \"white\", \"ticks\": \"\"}, \"baxis\": {\"gridcolor\": \"white\", \"linecolor\": \"white\", \"ticks\": \"\"}, \"bgcolor\": \"#E5ECF6\", \"caxis\": {\"gridcolor\": \"white\", \"linecolor\": \"white\", \"ticks\": \"\"}}, \"title\": {\"x\": 0.05}, \"xaxis\": {\"automargin\": true, \"gridcolor\": \"white\", \"linecolor\": \"white\", \"ticks\": \"\", \"title\": {\"standoff\": 15}, \"zerolinecolor\": \"white\", \"zerolinewidth\": 2}, \"yaxis\": {\"automargin\": true, \"gridcolor\": \"white\", \"linecolor\": \"white\", \"ticks\": \"\", \"title\": {\"standoff\": 15}, \"zerolinecolor\": \"white\", \"zerolinewidth\": 2}}}, \"title\": {\"text\": \"2015, arrest rate for Fraud\"}},\n",
       "                        {\"responsive\": true}\n",
       "                    ).then(function(){\n",
       "                            \n",
       "var gd = document.getElementById('87975801-5c93-48db-a395-5c4e2ab5c768');\n",
       "var x = new MutationObserver(function (mutations, observer) {{\n",
       "        var display = window.getComputedStyle(gd).display;\n",
       "        if (!display || display === 'none') {{\n",
       "            console.log([gd, 'removed!']);\n",
       "            Plotly.purge(gd);\n",
       "            observer.disconnect();\n",
       "        }}\n",
       "}});\n",
       "\n",
       "// Listen for the removal of the full notebook cells\n",
       "var notebookContainer = gd.closest('#notebook-container');\n",
       "if (notebookContainer) {{\n",
       "    x.observe(notebookContainer, {childList: true});\n",
       "}}\n",
       "\n",
       "// Listen for the clearing of the current output cell\n",
       "var outputEl = gd.closest('.output');\n",
       "if (outputEl) {{\n",
       "    x.observe(outputEl, {childList: true});\n",
       "}}\n",
       "\n",
       "                        })\n",
       "                };\n",
       "                });\n",
       "            </script>\n",
       "        </div>"
      ]
     },
     "metadata": {},
     "output_type": "display_data"
    }
   ],
   "source": [
    "year=2015\n",
    "tar = 'Fraud'\n",
    "\n",
    "fig = go.Figure(data=go.Choropleth(\n",
    "    locations=df['st'],\n",
    "    z=df[tar] / df['population'] * 100_000,\n",
    "    locationmode='USA-states',\n",
    "    colorscale='Reds',\n",
    "    autocolorscale=False,\n",
    "#     text=df['text'], # hover text\n",
    "    marker_line_color='white', # line markers between states\n",
    "    colorbar_title=\"Millions USD\"\n",
    "))\n",
    "\n",
    "fig.update_layout(\n",
    "    title_text=f\"{year}, arrest rate for {tar}\",\n",
    "    geo = dict(\n",
    "        scope='usa',\n",
    "        projection=go.layout.geo.Projection(type = 'albers usa'),\n",
    "        showlakes=True, # lakes\n",
    "        lakecolor='rgb(255, 255, 255)'),\n",
    ")\n",
    "\n",
    "fig.show()\n"
   ]
  },
  {
   "cell_type": "code",
   "execution_count": 42,
   "metadata": {},
   "outputs": [
    {
     "data": {
      "text/plain": [
       "[{'label': 'Murder/Manslaughter', 'value': 'Murder/Manslaughter'},\n",
       " {'label': 'Robbery', 'value': 'Robbery'},\n",
       " {'label': 'Aggravated Assault', 'value': 'Aggravated Assault'},\n",
       " {'label': 'Burglary', 'value': 'Burglary'},\n",
       " {'label': 'Larceny/Theft', 'value': 'Larceny/Theft'},\n",
       " {'label': 'Auto Theft', 'value': 'Auto Theft'},\n",
       " {'label': 'Arson', 'value': 'Arson'},\n",
       " {'label': 'Other Assaults', 'value': 'Other Assaults'},\n",
       " {'label': 'Forgery/Counterfieting', 'value': 'Forgery/Counterfieting'},\n",
       " {'label': 'Fraud', 'value': 'Fraud'},\n",
       " {'label': 'Embezzlement', 'value': 'Embezzlement'},\n",
       " {'label': 'Buying/Receving/Possessing Stolen Property',\n",
       "  'value': 'Buying/Receving/Possessing Stolen Property'},\n",
       " {'label': 'Vandalism', 'value': 'Vandalism'},\n",
       " {'label': 'Illegal Weapons Possession',\n",
       "  'value': 'Illegal Weapons Possession'},\n",
       " {'label': 'Prositution/Vice', 'value': 'Prositution/Vice'},\n",
       " {'label': 'Other Sex Offenses', 'value': 'Other Sex Offenses'},\n",
       " {'label': 'Drug Abuse Violations', 'value': 'Drug Abuse Violations'},\n",
       " {'label': 'Gambling', 'value': 'Gambling'},\n",
       " {'label': 'Domestic/Family Offenses', 'value': 'Domestic/Family Offenses'},\n",
       " {'label': 'DUI/DWI', 'value': 'DUI/DWI'},\n",
       " {'label': 'Liqour Law Violations', 'value': 'Liqour Law Violations'},\n",
       " {'label': 'Public Drunkenness', 'value': 'Public Drunkenness'},\n",
       " {'label': 'Disorderly Conduct', 'value': 'Disorderly Conduct'},\n",
       " {'label': 'All Other Offenses', 'value': 'All Other Offenses'}]"
      ]
     },
     "execution_count": 42,
     "metadata": {},
     "output_type": "execute_result"
    }
   ],
   "source": [
    "crimes\n"
   ]
  },
  {
   "cell_type": "code",
   "execution_count": 43,
   "metadata": {},
   "outputs": [],
   "source": [
    "col_list = list(data.drop(columns=['state', 'st', 'population', \"decrim\", \"medical\", \"recreational\"]).columns)\n",
    "\n",
    "col_list.sort()\n",
    "\n",
    "\n",
    "\n",
    "data['total'] = data[col_list].apply(np.sum, axis=1)"
   ]
  },
  {
   "cell_type": "code",
   "execution_count": 44,
   "metadata": {},
   "outputs": [
    {
     "data": {
      "text/plain": [
       "year\n",
       "1999     174624.0\n",
       "1999      36001.0\n",
       "1999     260024.0\n",
       "1999     210457.0\n",
       "1999    1456210.0\n",
       "          ...    \n",
       "2018     266970.0\n",
       "2018     170798.0\n",
       "2018      29130.0\n",
       "2018     242136.0\n",
       "2018      28142.0\n",
       "Name: total, Length: 973, dtype: float64"
      ]
     },
     "execution_count": 44,
     "metadata": {},
     "output_type": "execute_result"
    }
   ],
   "source": [
    "data['total']"
   ]
  },
  {
   "cell_type": "code",
   "execution_count": 46,
   "metadata": {},
   "outputs": [
    {
     "data": {
      "text/plain": [
       "<matplotlib.axes._subplots.AxesSubplot at 0x278abc22488>"
      ]
     },
     "execution_count": 46,
     "metadata": {},
     "output_type": "execute_result"
    },
    {
     "data": {
      "image/png": "[encoded data removed]",
      "text/plain": [
       "<Figure size 864x864 with 2 Axes>"
      ]
     },
     "metadata": {
      "needs_background": "light"
     },
     "output_type": "display_data"
    }
   ],
   "source": [
    "plt.figure(figsize = (12, 12))\n",
    "plt.title('Correlation of Drug Violations to other Numeric variables', fontsize=20)\n",
    "sns.heatmap(data[col_list].corr()[['Drug Abuse Violations']].sort_values('Drug Abuse Violations'), annot=True, cmap='coolwarm')"
   ]
  },
  {
   "cell_type": "code",
   "execution_count": null,
   "metadata": {},
   "outputs": [],
   "source": []
  }
 ],
 "metadata": {
  "kernelspec": {
   "display_name": "Python 3",
   "language": "python",
   "name": "python3"
  },
  "language_info": {
   "codemirror_mode": {
    "name": "ipython",
    "version": 3
   },
   "file_extension": ".py",
   "mimetype": "text/x-python",
   "name": "python",
   "nbconvert_exporter": "python",
   "pygments_lexer": "ipython3",
   "version": "3.7.4"
  }
 },
 "nbformat": 4,
 "nbformat_minor": 2
}
